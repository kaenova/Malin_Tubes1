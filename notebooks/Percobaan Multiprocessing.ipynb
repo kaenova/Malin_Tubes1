{
 "cells": [
  {
   "cell_type": "code",
   "execution_count": 1,
   "metadata": {},
   "outputs": [],
   "source": [
    "import multiprocessing as mp\n",
    "import numpy as np\n",
    "import time"
   ]
  },
  {
   "cell_type": "code",
   "execution_count": 2,
   "metadata": {},
   "outputs": [],
   "source": [
    "rand_data = np.random.rand(30000000)"
   ]
  },
  {
   "cell_type": "code",
   "execution_count": 3,
   "metadata": {},
   "outputs": [],
   "source": [
    "def percobaan_map(data):\n",
    "  print(\"starting mapping on\", len(data), \"data\")\n",
    "  for i in range(len(data)):\n",
    "    data[i] = data[i] * 10\n",
    "  return data"
   ]
  },
  {
   "cell_type": "code",
   "execution_count": 4,
   "metadata": {},
   "outputs": [],
   "source": [
    "def split(data:list, n:int = 2):\n",
    "  pembagi = int(len(data) / n)\n",
    "  print(pembagi)\n",
    "  new_data = []\n",
    "  for i in range(n):\n",
    "    new_data.append(data[((pembagi+1) * (i)):((pembagi+1) * (i + 1))])\n",
    "  \n",
    "  return new_data\n",
    "\n",
    "def combine(data:list):\n",
    "  new_data = np.concatenate(data)\n",
    "    \n",
    "  return new_data"
   ]
  },
  {
   "cell_type": "markdown",
   "metadata": {},
   "source": [
    "Non Multi Processing"
   ]
  },
  {
   "cell_type": "code",
   "execution_count": 68,
   "metadata": {},
   "outputs": [
    {
     "name": "stdout",
     "output_type": "stream",
     "text": [
      "3750000\n",
      "8\n",
      "starting mapping on 3750001 data\n",
      "starting mapping on 3750001 data\n",
      "starting mapping on 3750001 data\n",
      "starting mapping on 3750001 data\n",
      "starting mapping on 3750001 data\n",
      "starting mapping on 3750001 data\n",
      "starting mapping on 3750001 data\n",
      "starting mapping on 3749993 data\n",
      "30000000\n",
      "waktu yang digunakan 10.8889\n"
     ]
    }
   ],
   "source": [
    "start = time.time()\n",
    "data_split = split(rand_data, mp.cpu_count())\n",
    "print(len(data_split))\n",
    "hasil = list(map(percobaan_map, data_split))\n",
    "gabung = combine(hasil)\n",
    "print(len(gabung))\n",
    "end = time.time()\n",
    "print(\"waktu yang digunakan {:.4f}\".format(end-start))"
   ]
  },
  {
   "cell_type": "markdown",
   "metadata": {},
   "source": [
    "Multi Processing"
   ]
  },
  {
   "cell_type": "code",
   "execution_count": 1,
   "metadata": {},
   "outputs": [
    {
     "name": "stdout",
     "output_type": "stream",
     "text": [
      "3750000\n",
      "8\n"
     ]
    }
   ],
   "source": [
    "import multiprocessing as mp\n",
    "import numpy as np\n",
    "import time\n",
    "\n",
    "def percobaan_map(data):\n",
    "  print(\"starting mapping on\", len(data), \"data\")\n",
    "  for i in range(len(data)):\n",
    "    data[i] = data[i] * 10\n",
    "  return data\n",
    "\n",
    "def split(data:list, n:int = 2):\n",
    "  pembagi = int(len(data) / n)\n",
    "  print(pembagi)\n",
    "  new_data = []\n",
    "  for i in range(n):\n",
    "    new_data.append(data[((pembagi+1) * (i)):((pembagi+1) * (i + 1))])\n",
    "  \n",
    "  return new_data\n",
    "\n",
    "def combine(data:list):\n",
    "  new_data = np.concatenate(data)\n",
    "    \n",
    "  return new_data\n",
    "\n",
    "\n",
    "if __name__ == '__main__':\n",
    "  rand_data = np.random.rand(30000000)\n",
    "  \n",
    "  data_split = split(rand_data, n=mp.cpu_count())\n",
    "  print(len(data_split))\n",
    "  with mp.Pool() as p:\n",
    "    final_data = p.map(percobaan_map, data_split)\n",
    "  bruh = gabung(final_data)"
   ]
  },
  {
   "cell_type": "code",
   "execution_count": 41,
   "metadata": {},
   "outputs": [
    {
     "name": "stdout",
     "output_type": "stream",
     "text": [
      "3750000\n"
     ]
    },
    {
     "ename": "AttributeError",
     "evalue": "'list' object has no attribute 'keys'",
     "output_type": "error",
     "traceback": [
      "\u001b[1;31m---------------------------------------------------------------------------\u001b[0m",
      "\u001b[1;31mAttributeError\u001b[0m                            Traceback (most recent call last)",
      "\u001b[1;32m~\\AppData\\Local\\Temp/ipykernel_712/33920102.py\u001b[0m in \u001b[0;36m<module>\u001b[1;34m\u001b[0m\n\u001b[0;32m      2\u001b[0m \u001b[0mdata_split\u001b[0m \u001b[1;33m=\u001b[0m \u001b[0msplit\u001b[0m\u001b[1;33m(\u001b[0m\u001b[0ma\u001b[0m\u001b[1;33m,\u001b[0m \u001b[0mn\u001b[0m\u001b[1;33m=\u001b[0m\u001b[0mmp\u001b[0m\u001b[1;33m.\u001b[0m\u001b[0mcpu_count\u001b[0m\u001b[1;33m(\u001b[0m\u001b[1;33m)\u001b[0m\u001b[1;33m)\u001b[0m\u001b[1;33m\u001b[0m\u001b[1;33m\u001b[0m\u001b[0m\n\u001b[0;32m      3\u001b[0m \u001b[1;32mwith\u001b[0m \u001b[0mmp\u001b[0m\u001b[1;33m.\u001b[0m\u001b[0mPool\u001b[0m\u001b[1;33m(\u001b[0m\u001b[1;33m)\u001b[0m \u001b[1;32mas\u001b[0m \u001b[0mp\u001b[0m\u001b[1;33m:\u001b[0m\u001b[1;33m\u001b[0m\u001b[1;33m\u001b[0m\u001b[0m\n\u001b[1;32m----> 4\u001b[1;33m   \u001b[1;32mfor\u001b[0m \u001b[0mi\u001b[0m \u001b[1;32min\u001b[0m \u001b[0mdata_split\u001b[0m\u001b[1;33m.\u001b[0m\u001b[0mkeys\u001b[0m\u001b[1;33m(\u001b[0m\u001b[1;33m)\u001b[0m\u001b[1;33m:\u001b[0m\u001b[1;33m\u001b[0m\u001b[1;33m\u001b[0m\u001b[0m\n\u001b[0m\u001b[0;32m      5\u001b[0m     \u001b[0mfinal_data\u001b[0m\u001b[1;33m[\u001b[0m\u001b[0mi\u001b[0m\u001b[1;33m]\u001b[0m \u001b[1;33m=\u001b[0m \u001b[0mlist\u001b[0m\u001b[1;33m(\u001b[0m\u001b[0mp\u001b[0m\u001b[1;33m.\u001b[0m\u001b[0mmap\u001b[0m\u001b[1;33m(\u001b[0m\u001b[0mhitung_makan_waktu\u001b[0m\u001b[1;33m,\u001b[0m \u001b[0mdata_split\u001b[0m\u001b[1;33m[\u001b[0m\u001b[0mi\u001b[0m\u001b[1;33m]\u001b[0m\u001b[1;33m)\u001b[0m\u001b[1;33m)\u001b[0m\u001b[1;33m\u001b[0m\u001b[1;33m\u001b[0m\u001b[0m\n\u001b[0;32m      6\u001b[0m \u001b[0mend\u001b[0m \u001b[1;33m=\u001b[0m \u001b[0mtime\u001b[0m\u001b[1;33m.\u001b[0m\u001b[0mtime\u001b[0m\u001b[1;33m(\u001b[0m\u001b[1;33m)\u001b[0m\u001b[1;33m\u001b[0m\u001b[1;33m\u001b[0m\u001b[0m\n",
      "\u001b[1;31mAttributeError\u001b[0m: 'list' object has no attribute 'keys'"
     ]
    }
   ],
   "source": []
  },
  {
   "cell_type": "code",
   "execution_count": 29,
   "metadata": {},
   "outputs": [
    {
     "name": "stdout",
     "output_type": "stream",
     "text": [
      "waktu yang digunakan 9.8222\n"
     ]
    }
   ],
   "source": [
    "start = time.time()\n",
    "list(map(hitung_makan_waktu, a))\n",
    "end = time.time()\n",
    "print(\"waktu yang digunakan {:.4f}\".format(end-start))"
   ]
  },
  {
   "cell_type": "code",
   "execution_count": 9,
   "metadata": {},
   "outputs": [
    {
     "name": "stdout",
     "output_type": "stream",
     "text": [
      "3750000\n",
      "30000000\n",
      "Done splitting data\n"
     ]
    },
    {
     "ename": "TypeError",
     "evalue": "map() got an unexpected keyword argument 'args'",
     "output_type": "error",
     "traceback": [
      "\u001b[1;31m---------------------------------------------------------------------------\u001b[0m",
      "\u001b[1;31mTypeError\u001b[0m                                 Traceback (most recent call last)",
      "\u001b[1;32m~\\AppData\\Local\\Temp/ipykernel_5204/3999266341.py\u001b[0m in \u001b[0;36m<module>\u001b[1;34m\u001b[0m\n\u001b[0;32m     10\u001b[0m   \u001b[0mdata_baru\u001b[0m \u001b[1;33m=\u001b[0m \u001b[1;33m{\u001b[0m\u001b[1;33m}\u001b[0m\u001b[1;33m\u001b[0m\u001b[1;33m\u001b[0m\u001b[0m\n\u001b[0;32m     11\u001b[0m   \u001b[1;32mfor\u001b[0m \u001b[0mi\u001b[0m \u001b[1;32min\u001b[0m \u001b[0mrange\u001b[0m\u001b[1;33m(\u001b[0m\u001b[0mmp\u001b[0m\u001b[1;33m.\u001b[0m\u001b[0mcpu_count\u001b[0m\u001b[1;33m(\u001b[0m\u001b[1;33m)\u001b[0m\u001b[1;33m)\u001b[0m\u001b[1;33m:\u001b[0m\u001b[1;33m\u001b[0m\u001b[1;33m\u001b[0m\u001b[0m\n\u001b[1;32m---> 12\u001b[1;33m     \u001b[0mdata_baru\u001b[0m\u001b[1;33m[\u001b[0m\u001b[0mi\u001b[0m\u001b[1;33m]\u001b[0m \u001b[1;33m=\u001b[0m \u001b[0mlist\u001b[0m\u001b[1;33m(\u001b[0m\u001b[0mp\u001b[0m\u001b[1;33m.\u001b[0m\u001b[0mmap\u001b[0m\u001b[1;33m(\u001b[0m\u001b[0mhitung_makan_waktu\u001b[0m\u001b[1;33m,\u001b[0m\u001b[0margs\u001b[0m\u001b[1;33m=\u001b[0m\u001b[0mdata\u001b[0m\u001b[1;33m[\u001b[0m\u001b[0mi\u001b[0m\u001b[1;33m]\u001b[0m\u001b[1;33m)\u001b[0m\u001b[1;33m)\u001b[0m\u001b[1;33m\u001b[0m\u001b[1;33m\u001b[0m\u001b[0m\n\u001b[0m\u001b[0;32m     13\u001b[0m   \u001b[0mfinal_data\u001b[0m \u001b[1;33m=\u001b[0m \u001b[0mcombine\u001b[0m\u001b[1;33m(\u001b[0m\u001b[0mdata_baru\u001b[0m\u001b[1;33m)\u001b[0m\u001b[1;33m\u001b[0m\u001b[1;33m\u001b[0m\u001b[0m\n\u001b[0;32m     14\u001b[0m \u001b[1;33m\u001b[0m\u001b[0m\n",
      "\u001b[1;31mTypeError\u001b[0m: map() got an unexpected keyword argument 'args'"
     ]
    }
   ],
   "source": [
    "start = time.time()\n",
    "\n",
    "with mp.Pool(mp.cpu_count()) as p:\n",
    "  data = split(a, n=mp.cpu_count())\n",
    "  total_data = 0\n",
    "  for i in data.keys():\n",
    "    total_data += len(data[i])\n",
    "  print(total_data)\n",
    "  print(\"Done splitting data\")\n",
    "  data_baru = {}\n",
    "  for i in range(mp.cpu_count()):\n",
    "    data_baru[i] = list(p.map(hitung_makan_waktu,args=data[i]))\n",
    "  final_data = combine(data_baru)\n",
    "  \n",
    "end = time.time()\n",
    "print(\"waktu yang digunakan {:.4f}\".format(end-start))"
   ]
  },
  {
   "cell_type": "code",
   "execution_count": 8,
   "metadata": {},
   "outputs": [
    {
     "data": {
      "text/plain": [
       "8"
      ]
     },
     "execution_count": 8,
     "metadata": {},
     "output_type": "execute_result"
    }
   ],
   "source": [
    "mp.cpu_count()"
   ]
  },
  {
   "cell_type": "code",
   "execution_count": 29,
   "metadata": {},
   "outputs": [],
   "source": [
    "def split(data:list, n:int = 2):\n",
    "  pembagi = int(len(data) / n)\n",
    "  print(pembagi)\n",
    "  new_data = []\n",
    "  for i in range(n):\n",
    "    new_data.append(data[((pembagi+1) * (i)):((pembagi+1) * (i + 1))])\n",
    "  \n",
    "  return new_data\n",
    "\n",
    "def combine(data:list):\n",
    "  new_data = []\n",
    "  for i in data:\n",
    "    new_data += i\n",
    "    \n",
    "  return new_data"
   ]
  },
  {
   "cell_type": "code",
   "execution_count": 35,
   "metadata": {},
   "outputs": [],
   "source": [
    "def percobaan_map(data):\n",
    "  \n",
    "  for i in range(len(data)):\n",
    "    data[i] = data[i] * 10\n",
    "  return data"
   ]
  },
  {
   "cell_type": "code",
   "execution_count": 36,
   "metadata": {},
   "outputs": [
    {
     "name": "stdout",
     "output_type": "stream",
     "text": [
      "3\n",
      "[[1, 2, 3, 4], [5, 6]]\n",
      "[[10, 20, 30, 40], [50, 60]]\n"
     ]
    },
    {
     "data": {
      "text/plain": [
       "[10, 20, 30, 40, 50, 60]"
      ]
     },
     "execution_count": 36,
     "metadata": {},
     "output_type": "execute_result"
    }
   ],
   "source": [
    "bruh = [1,2,3,4,5,6]\n",
    "d = split(bruh, 2)\n",
    "print(d)\n",
    "a = list(map(percobaan_map, d))\n",
    "print(a)\n",
    "hasil_akhir = combine(a)\n",
    "hasil_akhir\n"
   ]
  }
 ],
 "metadata": {
  "interpreter": {
   "hash": "57e5e44896dea314485b05fc33ad888548d09b466b388bc869e8592ed56193f2"
  },
  "kernelspec": {
   "display_name": "Python 3.9.6 64-bit",
   "name": "python3"
  },
  "language_info": {
   "codemirror_mode": {
    "name": "ipython",
    "version": 3
   },
   "file_extension": ".py",
   "mimetype": "text/x-python",
   "name": "python",
   "nbconvert_exporter": "python",
   "pygments_lexer": "ipython3",
   "version": "3.9.6"
  },
  "orig_nbformat": 4
 },
 "nbformat": 4,
 "nbformat_minor": 2
}
