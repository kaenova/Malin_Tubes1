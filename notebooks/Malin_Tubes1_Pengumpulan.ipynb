{
 "cells": [
  {
   "cell_type": "markdown",
   "metadata": {},
   "source": [
    "# Pembelajaran Mesin: Tugas Besar 1\n",
    "\n",
    "Kaenova Mahendra Auditama  \n",
    "IF-43-02  \n",
    "1301190324  \n",
    "  \n",
    "Pada kodingan ini, saya mencoba untuk membuat sebuah model yang akan digunakan untuk membuat cluster pada suatu data. Data yang diberikan merupakan data ketertarikan pelanggan untuk membeli kendaraan baru. Pada akhirnya, saya menggunakan algoritma k-means karena kami diminta untuk membuat model dalam bentuk unsupervised learning\n",
    "  \n",
    "  \n",
    "<sup>\\*runs on AI Lab computer</sup>"
   ]
  },
  {
   "cell_type": "markdown",
   "metadata": {},
   "source": [
    "# Import Library"
   ]
  },
  {
   "cell_type": "code",
   "execution_count": 2,
   "metadata": {},
   "outputs": [],
   "source": [
    "import pandas as pd\n",
    "import matplotlib.pyplot as plt\n",
    "import matplotlib.cm as cm\n",
    "import numpy as np\n",
    "import pickle\n",
    "import random\n",
    "import math\n",
    "from sklearn.preprocessing import MinMaxScaler\n",
    "from sklearn.metrics import silhouette_score, silhouette_samples\n",
    "from urllib.request import urlopen"
   ]
  },
  {
   "cell_type": "markdown",
   "metadata": {},
   "source": [
    "# Import Data"
   ]
  },
  {
   "cell_type": "code",
   "execution_count": 3,
   "metadata": {},
   "outputs": [
    {
     "data": {
      "text/html": [
       "<div>\n",
       "<style scoped>\n",
       "    .dataframe tbody tr th:only-of-type {\n",
       "        vertical-align: middle;\n",
       "    }\n",
       "\n",
       "    .dataframe tbody tr th {\n",
       "        vertical-align: top;\n",
       "    }\n",
       "\n",
       "    .dataframe thead th {\n",
       "        text-align: right;\n",
       "    }\n",
       "</style>\n",
       "<table border=\"1\" class=\"dataframe\">\n",
       "  <thead>\n",
       "    <tr style=\"text-align: right;\">\n",
       "      <th></th>\n",
       "      <th>id</th>\n",
       "      <th>Jenis_Kelamin</th>\n",
       "      <th>Umur</th>\n",
       "      <th>SIM</th>\n",
       "      <th>Kode_Daerah</th>\n",
       "      <th>Sudah_Asuransi</th>\n",
       "      <th>Umur_Kendaraan</th>\n",
       "      <th>Kendaraan_Rusak</th>\n",
       "      <th>Premi</th>\n",
       "      <th>Kanal_Penjualan</th>\n",
       "      <th>Lama_Berlangganan</th>\n",
       "      <th>Tertarik</th>\n",
       "    </tr>\n",
       "  </thead>\n",
       "  <tbody>\n",
       "    <tr>\n",
       "      <th>0</th>\n",
       "      <td>1</td>\n",
       "      <td>Wanita</td>\n",
       "      <td>30.0</td>\n",
       "      <td>1.0</td>\n",
       "      <td>33.0</td>\n",
       "      <td>1.0</td>\n",
       "      <td>&lt; 1 Tahun</td>\n",
       "      <td>Tidak</td>\n",
       "      <td>28029.0</td>\n",
       "      <td>152.0</td>\n",
       "      <td>97.0</td>\n",
       "      <td>0</td>\n",
       "    </tr>\n",
       "    <tr>\n",
       "      <th>1</th>\n",
       "      <td>2</td>\n",
       "      <td>Pria</td>\n",
       "      <td>48.0</td>\n",
       "      <td>1.0</td>\n",
       "      <td>39.0</td>\n",
       "      <td>0.0</td>\n",
       "      <td>&gt; 2 Tahun</td>\n",
       "      <td>Pernah</td>\n",
       "      <td>25800.0</td>\n",
       "      <td>29.0</td>\n",
       "      <td>158.0</td>\n",
       "      <td>0</td>\n",
       "    </tr>\n",
       "    <tr>\n",
       "      <th>2</th>\n",
       "      <td>3</td>\n",
       "      <td>NaN</td>\n",
       "      <td>21.0</td>\n",
       "      <td>1.0</td>\n",
       "      <td>46.0</td>\n",
       "      <td>1.0</td>\n",
       "      <td>&lt; 1 Tahun</td>\n",
       "      <td>Tidak</td>\n",
       "      <td>32733.0</td>\n",
       "      <td>160.0</td>\n",
       "      <td>119.0</td>\n",
       "      <td>0</td>\n",
       "    </tr>\n",
       "    <tr>\n",
       "      <th>3</th>\n",
       "      <td>4</td>\n",
       "      <td>Wanita</td>\n",
       "      <td>58.0</td>\n",
       "      <td>1.0</td>\n",
       "      <td>48.0</td>\n",
       "      <td>0.0</td>\n",
       "      <td>1-2 Tahun</td>\n",
       "      <td>Tidak</td>\n",
       "      <td>2630.0</td>\n",
       "      <td>124.0</td>\n",
       "      <td>63.0</td>\n",
       "      <td>0</td>\n",
       "    </tr>\n",
       "    <tr>\n",
       "      <th>4</th>\n",
       "      <td>5</td>\n",
       "      <td>Pria</td>\n",
       "      <td>50.0</td>\n",
       "      <td>1.0</td>\n",
       "      <td>35.0</td>\n",
       "      <td>0.0</td>\n",
       "      <td>&gt; 2 Tahun</td>\n",
       "      <td>NaN</td>\n",
       "      <td>34857.0</td>\n",
       "      <td>88.0</td>\n",
       "      <td>194.0</td>\n",
       "      <td>0</td>\n",
       "    </tr>\n",
       "  </tbody>\n",
       "</table>\n",
       "</div>"
      ],
      "text/plain": [
       "   id Jenis_Kelamin  Umur  SIM  Kode_Daerah  Sudah_Asuransi Umur_Kendaraan  \\\n",
       "0   1        Wanita  30.0  1.0         33.0             1.0      < 1 Tahun   \n",
       "1   2          Pria  48.0  1.0         39.0             0.0      > 2 Tahun   \n",
       "2   3           NaN  21.0  1.0         46.0             1.0      < 1 Tahun   \n",
       "3   4        Wanita  58.0  1.0         48.0             0.0      1-2 Tahun   \n",
       "4   5          Pria  50.0  1.0         35.0             0.0      > 2 Tahun   \n",
       "\n",
       "  Kendaraan_Rusak    Premi  Kanal_Penjualan  Lama_Berlangganan  Tertarik  \n",
       "0           Tidak  28029.0            152.0               97.0         0  \n",
       "1          Pernah  25800.0             29.0              158.0         0  \n",
       "2           Tidak  32733.0            160.0              119.0         0  \n",
       "3           Tidak   2630.0            124.0               63.0         0  \n",
       "4             NaN  34857.0             88.0              194.0         0  "
      ]
     },
     "execution_count": 3,
     "metadata": {},
     "output_type": "execute_result"
    }
   ],
   "source": [
    "df_raw = pd.read_csv(\"https://raw.githubusercontent.com/kaenova/Malin_Tubes1/main/data/raw/kendaraan_train.csv\")\n",
    "df_raw.head()"
   ]
  },
  {
   "cell_type": "code",
   "execution_count": 4,
   "metadata": {},
   "outputs": [
    {
     "data": {
      "text/plain": [
       "285831"
      ]
     },
     "execution_count": 4,
     "metadata": {},
     "output_type": "execute_result"
    }
   ],
   "source": [
    "len(df_raw)"
   ]
  },
  {
   "cell_type": "markdown",
   "metadata": {},
   "source": [
    "# Data Preprocessing"
   ]
  },
  {
   "cell_type": "markdown",
   "metadata": {},
   "source": [
    "## Drop data yang ada NaN"
   ]
  },
  {
   "cell_type": "code",
   "execution_count": 5,
   "metadata": {},
   "outputs": [
    {
     "data": {
      "text/plain": [
       "171068"
      ]
     },
     "execution_count": 5,
     "metadata": {},
     "output_type": "execute_result"
    }
   ],
   "source": [
    "df_dropna = df_raw.dropna(how=\"any\")\n",
    "len(df_dropna)"
   ]
  },
  {
   "cell_type": "markdown",
   "metadata": {},
   "source": [
    "## Drop data Categorical"
   ]
  },
  {
   "cell_type": "code",
   "execution_count": 12,
   "metadata": {},
   "outputs": [
    {
     "data": {
      "text/html": [
       "<div>\n",
       "<style scoped>\n",
       "    .dataframe tbody tr th:only-of-type {\n",
       "        vertical-align: middle;\n",
       "    }\n",
       "\n",
       "    .dataframe tbody tr th {\n",
       "        vertical-align: top;\n",
       "    }\n",
       "\n",
       "    .dataframe thead th {\n",
       "        text-align: right;\n",
       "    }\n",
       "</style>\n",
       "<table border=\"1\" class=\"dataframe\">\n",
       "  <thead>\n",
       "    <tr style=\"text-align: right;\">\n",
       "      <th></th>\n",
       "      <th>id</th>\n",
       "      <th>Umur</th>\n",
       "      <th>Kode_Daerah</th>\n",
       "      <th>Premi</th>\n",
       "      <th>Kanal_Penjualan</th>\n",
       "      <th>Lama_Berlangganan</th>\n",
       "      <th>Tertarik</th>\n",
       "    </tr>\n",
       "  </thead>\n",
       "  <tbody>\n",
       "    <tr>\n",
       "      <th>217132</th>\n",
       "      <td>217133</td>\n",
       "      <td>80.0</td>\n",
       "      <td>8.0</td>\n",
       "      <td>54312.0</td>\n",
       "      <td>26.0</td>\n",
       "      <td>88.0</td>\n",
       "      <td>0</td>\n",
       "    </tr>\n",
       "    <tr>\n",
       "      <th>41044</th>\n",
       "      <td>41045</td>\n",
       "      <td>48.0</td>\n",
       "      <td>20.0</td>\n",
       "      <td>2630.0</td>\n",
       "      <td>124.0</td>\n",
       "      <td>124.0</td>\n",
       "      <td>0</td>\n",
       "    </tr>\n",
       "    <tr>\n",
       "      <th>82212</th>\n",
       "      <td>82213</td>\n",
       "      <td>25.0</td>\n",
       "      <td>8.0</td>\n",
       "      <td>32810.0</td>\n",
       "      <td>152.0</td>\n",
       "      <td>223.0</td>\n",
       "      <td>0</td>\n",
       "    </tr>\n",
       "    <tr>\n",
       "      <th>194575</th>\n",
       "      <td>194576</td>\n",
       "      <td>25.0</td>\n",
       "      <td>41.0</td>\n",
       "      <td>64383.0</td>\n",
       "      <td>152.0</td>\n",
       "      <td>292.0</td>\n",
       "      <td>0</td>\n",
       "    </tr>\n",
       "    <tr>\n",
       "      <th>162584</th>\n",
       "      <td>162585</td>\n",
       "      <td>26.0</td>\n",
       "      <td>8.0</td>\n",
       "      <td>37148.0</td>\n",
       "      <td>152.0</td>\n",
       "      <td>274.0</td>\n",
       "      <td>0</td>\n",
       "    </tr>\n",
       "  </tbody>\n",
       "</table>\n",
       "</div>"
      ],
      "text/plain": [
       "            id  Umur  Kode_Daerah    Premi  Kanal_Penjualan  \\\n",
       "217132  217133  80.0          8.0  54312.0             26.0   \n",
       "41044    41045  48.0         20.0   2630.0            124.0   \n",
       "82212    82213  25.0          8.0  32810.0            152.0   \n",
       "194575  194576  25.0         41.0  64383.0            152.0   \n",
       "162584  162585  26.0          8.0  37148.0            152.0   \n",
       "\n",
       "        Lama_Berlangganan  Tertarik  \n",
       "217132               88.0         0  \n",
       "41044               124.0         0  \n",
       "82212               223.0         0  \n",
       "194575              292.0         0  \n",
       "162584              274.0         0  "
      ]
     },
     "execution_count": 12,
     "metadata": {},
     "output_type": "execute_result"
    }
   ],
   "source": [
    "df_dropna_dropcategorical = df_dropna.drop(axis=1, columns=[\"Jenis_Kelamin\", \"SIM\", \"Sudah_Asuransi\", \"Umur_Kendaraan\", \"Kendaraan_Rusak\"])\n",
    "df_dropna_dropcategorical.sample(5)"
   ]
  },
  {
   "cell_type": "markdown",
   "metadata": {},
   "source": [
    "## Check Outlier"
   ]
  },
  {
   "cell_type": "code",
   "execution_count": 16,
   "metadata": {},
   "outputs": [
    {
     "data": {
      "text/plain": [
       "Text(0.5, 1.0, 'Kode_Daerah')"
      ]
     },
     "execution_count": 16,
     "metadata": {},
     "output_type": "execute_result"
    },
    {
     "data": {
      "image/png": "[encoded data removed]",
      "text/plain": [
       "<Figure size 1080x360 with 5 Axes>"
      ]
     },
     "metadata": {
      "needs_background": "light"
     },
     "output_type": "display_data"
    }
   ],
   "source": [
    "fig, (g1, g2, g3, g4, g5) = plt.subplots(1,5)\n",
    "fig.suptitle(\"Box Plot masing-masing atribut\")\n",
    "fig.set_size_inches(15,5)\n",
    "g1.boxplot(df_dropna_dropcategorical[\"Umur\"])\n",
    "g1.set_title(\"Umur\")\n",
    "g2.boxplot(df_dropna_dropcategorical[\"Premi\"])\n",
    "g2.set_title(\"Premi\")\n",
    "g3.boxplot(df_dropna_dropcategorical[\"Lama_Berlangganan\"])\n",
    "g3.set_title(\"Lama Berlangganan\")\n",
    "g4.boxplot(df_dropna_dropcategorical[\"Kanal_Penjualan\"])\n",
    "g4.set_title(\"Kanal_Penjualan\")\n",
    "g5.boxplot(df_dropna_dropcategorical[\"Kode_Daerah\"])\n",
    "g5.set_title(\"Kode_Daerah\")"
   ]
  },
  {
   "cell_type": "markdown",
   "metadata": {},
   "source": [
    "## Drop Outlier menggunakan IQR method"
   ]
  },
  {
   "cell_type": "code",
   "execution_count": 17,
   "metadata": {},
   "outputs": [
    {
     "data": {
      "text/plain": [
       "166396"
      ]
     },
     "execution_count": 17,
     "metadata": {},
     "output_type": "execute_result"
    }
   ],
   "source": [
    "describe = df_dropna_dropcategorical.describe()\n",
    "describe\n",
    "iqr_premi = float(describe[\"Premi\"].loc[\"75%\"] - describe[\"Premi\"].loc[\"25%\"])\n",
    "q1_bound = float(describe[\"Premi\"].loc[\"25%\"]) - (iqr_premi * 1.5)\n",
    "q2_bound = float(describe[\"Premi\"].loc[\"75%\"]) + (iqr_premi * 1.5)\n",
    "final_df = df_dropna_dropcategorical.copy()\n",
    "final_df.reset_index(drop=True, inplace=True)\n",
    "final_df = final_df[(final_df[\"Premi\"] > q1_bound) & (final_df[\"Premi\"] < q2_bound)]\n",
    "len(final_df)"
   ]
  },
  {
   "cell_type": "code",
   "execution_count": 18,
   "metadata": {},
   "outputs": [
    {
     "data": {
      "text/plain": [
       "Text(0.5, 1.0, 'Kode_Daerah')"
      ]
     },
     "execution_count": 18,
     "metadata": {},
     "output_type": "execute_result"
    },
    {
     "data": {
      "image/png": "[encoded data removed]",
      "text/plain": [
       "<Figure size 1080x360 with 5 Axes>"
      ]
     },
     "metadata": {
      "needs_background": "light"
     },
     "output_type": "display_data"
    }
   ],
   "source": [
    "fig, (g1, g2, g3, g4, g5) = plt.subplots(1,5)\n",
    "fig.suptitle(\"Box Plot masing-masing atribut\")\n",
    "fig.set_size_inches(15,5)\n",
    "g1.boxplot(final_df[\"Umur\"])\n",
    "g1.set_title(\"Umur\")\n",
    "g2.boxplot(final_df[\"Premi\"])\n",
    "g2.set_title(\"Premi\")\n",
    "g3.boxplot(final_df[\"Lama_Berlangganan\"])\n",
    "g3.set_title(\"Lama Berlangganan\")\n",
    "g4.boxplot(final_df[\"Kanal_Penjualan\"])\n",
    "g4.set_title(\"Kanal_Penjualan\")\n",
    "g5.boxplot(final_df[\"Kode_Daerah\"])\n",
    "g5.set_title(\"Kode_Daerah\")"
   ]
  },
  {
   "cell_type": "markdown",
   "metadata": {},
   "source": [
    "## Check Correlation"
   ]
  },
  {
   "cell_type": "code",
   "execution_count": 20,
   "metadata": {
    "scrolled": true
   },
   "outputs": [
    {
     "data": {
      "image/png": "[encoded data removed]",
      "text/plain": [
       "<Figure size 288x288 with 1 Axes>"
      ]
     },
     "metadata": {
      "needs_background": "light"
     },
     "output_type": "display_data"
    }
   ],
   "source": [
    "plt.matshow(final_df.corr())\n",
    "plt.show()"
   ]
  },
  {
   "cell_type": "code",
   "execution_count": 19,
   "metadata": {},
   "outputs": [
    {
     "data": {
      "text/html": [
       "<div>\n",
       "<style scoped>\n",
       "    .dataframe tbody tr th:only-of-type {\n",
       "        vertical-align: middle;\n",
       "    }\n",
       "\n",
       "    .dataframe tbody tr th {\n",
       "        vertical-align: top;\n",
       "    }\n",
       "\n",
       "    .dataframe thead th {\n",
       "        text-align: right;\n",
       "    }\n",
       "</style>\n",
       "<table border=\"1\" class=\"dataframe\">\n",
       "  <thead>\n",
       "    <tr style=\"text-align: right;\">\n",
       "      <th></th>\n",
       "      <th>id</th>\n",
       "      <th>Umur</th>\n",
       "      <th>Kode_Daerah</th>\n",
       "      <th>Premi</th>\n",
       "      <th>Kanal_Penjualan</th>\n",
       "      <th>Lama_Berlangganan</th>\n",
       "      <th>Tertarik</th>\n",
       "    </tr>\n",
       "  </thead>\n",
       "  <tbody>\n",
       "    <tr>\n",
       "      <th>id</th>\n",
       "      <td>1.000000</td>\n",
       "      <td>0.002691</td>\n",
       "      <td>0.000597</td>\n",
       "      <td>0.002643</td>\n",
       "      <td>-0.001621</td>\n",
       "      <td>0.001875</td>\n",
       "      <td>0.000203</td>\n",
       "    </tr>\n",
       "    <tr>\n",
       "      <th>Umur</th>\n",
       "      <td>0.002691</td>\n",
       "      <td>1.000000</td>\n",
       "      <td>0.044503</td>\n",
       "      <td>0.046519</td>\n",
       "      <td>-0.574807</td>\n",
       "      <td>-0.001055</td>\n",
       "      <td>0.108781</td>\n",
       "    </tr>\n",
       "    <tr>\n",
       "      <th>Kode_Daerah</th>\n",
       "      <td>0.000597</td>\n",
       "      <td>0.044503</td>\n",
       "      <td>1.000000</td>\n",
       "      <td>-0.004068</td>\n",
       "      <td>-0.044871</td>\n",
       "      <td>-0.003771</td>\n",
       "      <td>0.010484</td>\n",
       "    </tr>\n",
       "    <tr>\n",
       "      <th>Premi</th>\n",
       "      <td>0.002643</td>\n",
       "      <td>0.046519</td>\n",
       "      <td>-0.004068</td>\n",
       "      <td>1.000000</td>\n",
       "      <td>-0.105819</td>\n",
       "      <td>0.001831</td>\n",
       "      <td>0.019686</td>\n",
       "    </tr>\n",
       "    <tr>\n",
       "      <th>Kanal_Penjualan</th>\n",
       "      <td>-0.001621</td>\n",
       "      <td>-0.574807</td>\n",
       "      <td>-0.044871</td>\n",
       "      <td>-0.105819</td>\n",
       "      <td>1.000000</td>\n",
       "      <td>0.000017</td>\n",
       "      <td>-0.139186</td>\n",
       "    </tr>\n",
       "    <tr>\n",
       "      <th>Lama_Berlangganan</th>\n",
       "      <td>0.001875</td>\n",
       "      <td>-0.001055</td>\n",
       "      <td>-0.003771</td>\n",
       "      <td>0.001831</td>\n",
       "      <td>0.000017</td>\n",
       "      <td>1.000000</td>\n",
       "      <td>0.001819</td>\n",
       "    </tr>\n",
       "    <tr>\n",
       "      <th>Tertarik</th>\n",
       "      <td>0.000203</td>\n",
       "      <td>0.108781</td>\n",
       "      <td>0.010484</td>\n",
       "      <td>0.019686</td>\n",
       "      <td>-0.139186</td>\n",
       "      <td>0.001819</td>\n",
       "      <td>1.000000</td>\n",
       "    </tr>\n",
       "  </tbody>\n",
       "</table>\n",
       "</div>"
      ],
      "text/plain": [
       "                         id      Umur  Kode_Daerah     Premi  Kanal_Penjualan  \\\n",
       "id                 1.000000  0.002691     0.000597  0.002643        -0.001621   \n",
       "Umur               0.002691  1.000000     0.044503  0.046519        -0.574807   \n",
       "Kode_Daerah        0.000597  0.044503     1.000000 -0.004068        -0.044871   \n",
       "Premi              0.002643  0.046519    -0.004068  1.000000        -0.105819   \n",
       "Kanal_Penjualan   -0.001621 -0.574807    -0.044871 -0.105819         1.000000   \n",
       "Lama_Berlangganan  0.001875 -0.001055    -0.003771  0.001831         0.000017   \n",
       "Tertarik           0.000203  0.108781     0.010484  0.019686        -0.139186   \n",
       "\n",
       "                   Lama_Berlangganan  Tertarik  \n",
       "id                          0.001875  0.000203  \n",
       "Umur                       -0.001055  0.108781  \n",
       "Kode_Daerah                -0.003771  0.010484  \n",
       "Premi                       0.001831  0.019686  \n",
       "Kanal_Penjualan             0.000017 -0.139186  \n",
       "Lama_Berlangganan           1.000000  0.001819  \n",
       "Tertarik                    0.001819  1.000000  "
      ]
     },
     "execution_count": 19,
     "metadata": {},
     "output_type": "execute_result"
    }
   ],
   "source": [
    "final_df.corr()"
   ]
  },
  {
   "cell_type": "markdown",
   "metadata": {},
   "source": [
    "Korelasi yang \"menonjol\" pada atribut umur dan kanal_penjualan"
   ]
  },
  {
   "cell_type": "markdown",
   "metadata": {},
   "source": [
    "# Modelling"
   ]
  },
  {
   "cell_type": "code",
   "execution_count": 36,
   "metadata": {},
   "outputs": [],
   "source": [
    "class KMeans:\n",
    "  training_arr = None\n",
    "  point = None\n",
    "  inertia = None\n",
    "  \n",
    "  def __init__(self, df: pd.DataFrame):\n",
    "    '''\n",
    "    Kelas ini digunakan untuk menyiapkan dataframe yang akan ditraining.\n",
    "    Pastikan kolom bernama id atau sejenis sudah di drop tidak termasuk ke dalam dataframe.\n",
    "    '''\n",
    "    print(\"K-Means akan ditentukan oleh atribut-atribut di bawah ini:\")\n",
    "    print(\"[\", end=\"\")\n",
    "    for i in range(len(df.columns)):\n",
    "      print(df.columns[i] + \" \", end=\"\")\n",
    "    print(\"]\", end=\"\\n\")\n",
    "    self.training_arr = df.to_numpy()\n",
    "    \n",
    "  def fit_predict(self, k_num:int = 3, max_step:int = 500, conv_threshold: float = 1e-5) -> np.array:\n",
    "    '''\n",
    "    Membuat model KMeans dengan K tertentu. Akan mengkembalikan hasil prediksi cluster.\n",
    "    Poin kluster akan disimpan pada variable point\n",
    "    '''\n",
    "    # Setting up cluster arry for every record\n",
    "    cluster = np.zeros(len(self.training_arr))\n",
    "    \n",
    "    # normalize data\n",
    "    data = self.__normalize_data__(self.training_arr)\n",
    "    \n",
    "    # Initialize centroid using KMeans++  \n",
    "    point = self.__initialize_centroids__(data, k_num)\n",
    "        \n",
    "    # Setup convergence and counter\n",
    "    convergence = False\n",
    "    step = 0 \n",
    "        \n",
    "    while not convergence and (step < max_step):\n",
    "      initial_point = point\n",
    "      distance = self.__calculate_distance__(data, point)\n",
    "      cluster = self.__clustering__(distance)\n",
    "      new_point = self.__point_nomralization__(data, point, cluster)\n",
    "      convergence = self.__convergence_check__(initial_point, new_point, conv_threshold)\n",
    "      \n",
    "      if convergence:\n",
    "        point = new_point\n",
    "        print(\"It's convergence!\")\n",
    "      else:\n",
    "        point = new_point\n",
    "        step += 1\n",
    "        print(\"STEP:\", step)\n",
    "      \n",
    "    \n",
    "    self.inertia = self.__calculate_inertia__(data, cluster, point)\n",
    "    self.point = self.__denormalize_point__(point, self.training_arr)\n",
    "    return cluster\n",
    "    \n",
    "  # Made by Kaenova Mahendra Auditama | 1301190324 | IF-43-02\n",
    "  def get_cluster_centroid(self) -> np.array:\n",
    "    '''\n",
    "    Fungsi ini digunakan untuk mengambil point\n",
    "    '''\n",
    "    if type(self.point) == \"NoneType\":\n",
    "      print(\"Nothing returned, point not initialize. Try using fit_predict first.\")\n",
    "      return\n",
    "    return self.point\n",
    "  \n",
    "  \n",
    "  def __initialize_centroids__(self, data:np.array, k:np.array) -> np.array:\n",
    "    '''\n",
    "    Fungsi ini digunakan untuk menginisialisasikan centroid. Menggunakan algoritma k-means++\n",
    "    referensi membantu: https://www.youtube.com/watch?v=HatwtJSsj5Q\n",
    "    '''\n",
    "    centroids = []\n",
    "    centroids.append( data[random.randrange(0, len(data))] )\n",
    "    \n",
    "    for i in range(1, k):\n",
    "      min_dist = []\n",
    "      for data_point in data:\n",
    "        distance_data_point = []\n",
    "        for point in centroids:\n",
    "          distance_data_point.append(np.linalg.norm(data_point - point))\n",
    "        min_dist.append(min(distance_data_point))\n",
    "      \n",
    "      probcum  = sum(min_dist)\n",
    "      prob_point = [value / probcum for value in min_dist]\n",
    "      \n",
    "      centroids.append(data[np.argmax(prob_point)])\n",
    "    \n",
    "    return np.array(centroids)\n",
    "  \n",
    "  \n",
    "  def __clustering__(self, distance: np.array) -> np.array:\n",
    "    '''\n",
    "    Fungsi ini akan mengembalikan hasil clustering berdasarkan distance\n",
    "    '''\n",
    "    cluster = np.zeros(len(distance))\n",
    "    for i in range(len(cluster)):\n",
    "      cluster[i] = np.argmin(distance[i])\n",
    "    return cluster\n",
    "  # Made by Kaenova Mahendra Auditama | 1301190324 | IF-43-02\n",
    "  def __calculate_distance__(self, data:np.array, point: np.array) -> np.array:\n",
    "    '''\n",
    "    Fungsi ini akan menghitung setiap titik dengan point dan mengkembalikan jarak dari titik ke point\n",
    "    '''\n",
    "    distance = np.zeros((len(data), len(point)))\n",
    "    \n",
    "    for i in range(len(data)):\n",
    "      current_record = data[i]\n",
    "      for j in range(len(point)):\n",
    "        current_point = point[j]\n",
    "        # numpy eucledience distance\n",
    "        distance[i][j] = np.linalg.norm(current_point - current_record)\n",
    "    \n",
    "    return distance\n",
    "  \n",
    "  def __point_nomralization__(self, data:np.array, point:np.array, cluster:np.array) -> (np.array, np.array):\n",
    "    '''\n",
    "    Fungsi ini digunakan untuk menghitung ulang kembali point dengan rata-rata\n",
    "    '''\n",
    "    new_point = np.zeros((len(point), len(point[0])))\n",
    "    counter_array = np.zeros(len(point))\n",
    "    for i in range(len(cluster)):\n",
    "      new_point[int(cluster[i])] = new_point[int(cluster[i])] + data[i]\n",
    "      counter_array[int(cluster[i])] += 1\n",
    "      \n",
    "    unique_on_cluster = np.unique(cluster)\n",
    "    for i in range(len(point)):\n",
    "      # nan handling\n",
    "      if i not in unique_on_cluster:\n",
    "        new_point[i] = point[i]\n",
    "      else:\n",
    "        new_point[i] = np.true_divide(new_point[i], counter_array[i])\n",
    "      \n",
    "    return new_point\n",
    "  # Made by Kaenova Mahendra Auditama | 1301190324 | IF-43-02\n",
    "  def __convergence_check__(self, points1: np.array, points2:np.array, threshold: float) -> bool:\n",
    "    '''\n",
    "    Fungsi ini untuk mengecek convergence berdasarkan threshold yang dibuat.\n",
    "    titik cluster pertama akan dibandingkan dengan titik cluster kedua.\n",
    "    note: maybe i should use euclediance distance insted of menghitung satu-satu\n",
    "    '''\n",
    "    local_convergence = False\n",
    "    normalize_threshold_positive, normalize_threshold_negative  = 1 + threshold, 1 - threshold\n",
    "    points_counter = 0\n",
    "    center = np.zeros(len(points1[0]))\n",
    "    for i in range(len(points1)):\n",
    "      current_first_point, current_second_point = points1[i], points2[i]\n",
    "      distance_first_point, distance_second_point = np.linalg.norm(current_first_point - center), np.linalg.norm(current_second_point - center)\n",
    "      distance_threshold_positive = distance_first_point * normalize_threshold_positive\n",
    "      distance_threshold_negative = distance_first_point * normalize_threshold_negative\n",
    "      if distance_threshold_positive > distance_second_point and distance_threshold_negative < distance_second_point:\n",
    "        points_counter += 1\n",
    "    \n",
    "    if points_counter == len(points1):\n",
    "      local_convergence = True\n",
    "    \n",
    "    return local_convergence\n",
    "  \n",
    "  def __calculate_inertia__(self, data:np.array, cluster:np.array, points:np.array) -> np.array:\n",
    "    '''\n",
    "    K-Means: Inertia\n",
    "    Inertia measures how well a dataset was clustered by K-Means. It is calculated by measuring the distance between each data point and its centroid, squaring this distance, and summing these squares across one cluster.\n",
    "    ref: https://towardsdatascience.com/clustering-how-to-find-hyperparameters-using-inertia-b0343c6fe819\n",
    "    '''\n",
    "    inertia = 0\n",
    "    for i in range(len(data)):\n",
    "      inertia += (np.linalg.norm(data[i] - points[int(cluster[i])]))**2\n",
    "      \n",
    "    return inertia\n",
    "  \n",
    "  def __normalize_data__(self, data:np.array) -> np.array:\n",
    "    '''\n",
    "    Fungsi ini digunakan untuk menormalisasikan data dengan menggunakan min-max scaling. Sehingga data berjenis dan bersatuan apapun data diproses dengan baik.\n",
    "    '''\n",
    "    data = data.copy()\n",
    "    for i in range(len(data[0])):\n",
    "      col_arr = data[:,i]\n",
    "      minmax = MinMaxScaler()\n",
    "      normalize = minmax.fit_transform(col_arr.reshape(-1,1)).reshape(1,-1)\n",
    "      data[:, i] = normalize[0]\n",
    "      \n",
    "    return data\n",
    "  \n",
    "  def __denormalize_point__(self, data:np.array, original_data:np.array) -> np.array:\n",
    "    '''\n",
    "    Fungsi ini digunakan untuk mendenormalisasikan point-point yang sudah dihitung menggunakan data yang ternormalisasi\n",
    "    '''\n",
    "    for i in range(len(data[0])):\n",
    "      col_arr = data[:,i]\n",
    "      col_arr_ori = original_data[:, i]\n",
    "      \n",
    "      minimums = min(col_arr_ori)\n",
    "      maximums = max(col_arr_ori)\n",
    "      for j in range(len(col_arr)):\n",
    "        col_arr[j] = ((col_arr[j]*(maximums - minimums)) + minimums)\n",
    "      data[:, i] = col_arr\n",
    "    return data"
   ]
  },
  {
   "cell_type": "markdown",
   "metadata": {},
   "source": [
    "# Eksperimen"
   ]
  },
  {
   "cell_type": "code",
   "execution_count": 21,
   "metadata": {},
   "outputs": [],
   "source": [
    "df_training = final_df.copy()\n",
    "df_training.set_index(\"id\", inplace=True)\n",
    "df_labels = df_training[\"Tertarik\"]\n",
    "df_training.drop(columns=\"Tertarik\", axis=1, inplace=True)"
   ]
  },
  {
   "cell_type": "code",
   "execution_count": 22,
   "metadata": {},
   "outputs": [
    {
     "data": {
      "text/html": [
       "<div>\n",
       "<style scoped>\n",
       "    .dataframe tbody tr th:only-of-type {\n",
       "        vertical-align: middle;\n",
       "    }\n",
       "\n",
       "    .dataframe tbody tr th {\n",
       "        vertical-align: top;\n",
       "    }\n",
       "\n",
       "    .dataframe thead th {\n",
       "        text-align: right;\n",
       "    }\n",
       "</style>\n",
       "<table border=\"1\" class=\"dataframe\">\n",
       "  <thead>\n",
       "    <tr style=\"text-align: right;\">\n",
       "      <th></th>\n",
       "      <th>Umur</th>\n",
       "      <th>Kode_Daerah</th>\n",
       "      <th>Premi</th>\n",
       "      <th>Kanal_Penjualan</th>\n",
       "      <th>Lama_Berlangganan</th>\n",
       "    </tr>\n",
       "    <tr>\n",
       "      <th>id</th>\n",
       "      <th></th>\n",
       "      <th></th>\n",
       "      <th></th>\n",
       "      <th></th>\n",
       "      <th></th>\n",
       "    </tr>\n",
       "  </thead>\n",
       "  <tbody>\n",
       "    <tr>\n",
       "      <th>1</th>\n",
       "      <td>30.0</td>\n",
       "      <td>33.0</td>\n",
       "      <td>28029.0</td>\n",
       "      <td>152.0</td>\n",
       "      <td>97.0</td>\n",
       "    </tr>\n",
       "    <tr>\n",
       "      <th>2</th>\n",
       "      <td>48.0</td>\n",
       "      <td>39.0</td>\n",
       "      <td>25800.0</td>\n",
       "      <td>29.0</td>\n",
       "      <td>158.0</td>\n",
       "    </tr>\n",
       "    <tr>\n",
       "      <th>4</th>\n",
       "      <td>58.0</td>\n",
       "      <td>48.0</td>\n",
       "      <td>2630.0</td>\n",
       "      <td>124.0</td>\n",
       "      <td>63.0</td>\n",
       "    </tr>\n",
       "    <tr>\n",
       "      <th>6</th>\n",
       "      <td>21.0</td>\n",
       "      <td>35.0</td>\n",
       "      <td>22735.0</td>\n",
       "      <td>152.0</td>\n",
       "      <td>171.0</td>\n",
       "    </tr>\n",
       "    <tr>\n",
       "      <th>9</th>\n",
       "      <td>20.0</td>\n",
       "      <td>8.0</td>\n",
       "      <td>30786.0</td>\n",
       "      <td>160.0</td>\n",
       "      <td>31.0</td>\n",
       "    </tr>\n",
       "  </tbody>\n",
       "</table>\n",
       "</div>"
      ],
      "text/plain": [
       "    Umur  Kode_Daerah    Premi  Kanal_Penjualan  Lama_Berlangganan\n",
       "id                                                                \n",
       "1   30.0         33.0  28029.0            152.0               97.0\n",
       "2   48.0         39.0  25800.0             29.0              158.0\n",
       "4   58.0         48.0   2630.0            124.0               63.0\n",
       "6   21.0         35.0  22735.0            152.0              171.0\n",
       "9   20.0          8.0  30786.0            160.0               31.0"
      ]
     },
     "execution_count": 22,
     "metadata": {},
     "output_type": "execute_result"
    }
   ],
   "source": [
    "df_training.head()"
   ]
  },
  {
   "cell_type": "code",
   "execution_count": null,
   "metadata": {},
   "outputs": [],
   "source": [
    "# len(df_training)"
   ]
  },
  {
   "cell_type": "code",
   "execution_count": 23,
   "metadata": {},
   "outputs": [],
   "source": [
    "# df_training.to_csv(\"../data/processed/kendaraan_train_processed.csv\")\n",
    "df_training = pd.read_csv(\"https://raw.githubusercontent.com/kaenova/Malin_Tubes1/main/data/processed/kendaraan_train_processed.csv\")\n",
    "df_training"
   ]
  },
  {
   "cell_type": "markdown",
   "metadata": {},
   "source": [
    "## 2 Atribut (Kanal Penjualan dan Umur)"
   ]
  },
  {
   "cell_type": "code",
   "execution_count": 37,
   "metadata": {},
   "outputs": [
    {
     "name": "stdout",
     "output_type": "stream",
     "text": [
      "==== K: 1 ====\n",
      "K-Means akan ditentukan oleh atribut-atribut di bawah ini:\n",
      "[Umur Kanal_Penjualan ]\n",
      "STEP: 1\n",
      "It's convergence!\n",
      "==== K: 2 ====\n",
      "K-Means akan ditentukan oleh atribut-atribut di bawah ini:\n",
      "[Umur Kanal_Penjualan ]\n",
      "STEP: 1\n",
      "STEP: 2\n",
      "STEP: 3\n",
      "STEP: 4\n",
      "It's convergence!\n",
      "==== K: 3 ====\n",
      "K-Means akan ditentukan oleh atribut-atribut di bawah ini:\n",
      "[Umur Kanal_Penjualan ]\n",
      "STEP: 1\n",
      "STEP: 2\n",
      "STEP: 3\n",
      "STEP: 4\n",
      "STEP: 5\n",
      "STEP: 6\n",
      "STEP: 7\n",
      "STEP: 8\n",
      "It's convergence!\n",
      "==== K: 4 ====\n",
      "K-Means akan ditentukan oleh atribut-atribut di bawah ini:\n",
      "[Umur Kanal_Penjualan ]\n",
      "STEP: 1\n",
      "STEP: 2\n",
      "STEP: 3\n",
      "STEP: 4\n",
      "STEP: 5\n",
      "STEP: 6\n",
      "It's convergence!\n",
      "==== K: 5 ====\n",
      "K-Means akan ditentukan oleh atribut-atribut di bawah ini:\n",
      "[Umur Kanal_Penjualan ]\n",
      "STEP: 1\n",
      "STEP: 2\n",
      "STEP: 3\n",
      "STEP: 4\n",
      "STEP: 5\n",
      "STEP: 6\n",
      "It's convergence!\n",
      "==== K: 6 ====\n",
      "K-Means akan ditentukan oleh atribut-atribut di bawah ini:\n",
      "[Umur Kanal_Penjualan ]\n",
      "STEP: 1\n",
      "STEP: 2\n",
      "STEP: 3\n",
      "STEP: 4\n",
      "STEP: 5\n",
      "STEP: 6\n",
      "STEP: 7\n",
      "STEP: 8\n",
      "STEP: 9\n",
      "It's convergence!\n",
      "==== K: 7 ====\n",
      "K-Means akan ditentukan oleh atribut-atribut di bawah ini:\n",
      "[Umur Kanal_Penjualan ]\n",
      "STEP: 1\n",
      "STEP: 2\n",
      "STEP: 3\n",
      "STEP: 4\n",
      "STEP: 5\n",
      "STEP: 6\n",
      "STEP: 7\n",
      "STEP: 8\n",
      "STEP: 9\n",
      "STEP: 10\n",
      "STEP: 11\n",
      "STEP: 12\n",
      "STEP: 13\n",
      "STEP: 14\n",
      "STEP: 15\n",
      "STEP: 16\n",
      "STEP: 17\n",
      "STEP: 18\n",
      "It's convergence!\n",
      "==== K: 8 ====\n",
      "K-Means akan ditentukan oleh atribut-atribut di bawah ini:\n",
      "[Umur Kanal_Penjualan ]\n",
      "STEP: 1\n",
      "STEP: 2\n",
      "STEP: 3\n",
      "STEP: 4\n",
      "STEP: 5\n",
      "STEP: 6\n",
      "STEP: 7\n",
      "STEP: 8\n",
      "STEP: 9\n",
      "STEP: 10\n",
      "STEP: 11\n",
      "STEP: 12\n",
      "STEP: 13\n",
      "STEP: 14\n",
      "STEP: 15\n",
      "STEP: 16\n",
      "STEP: 17\n",
      "It's convergence!\n",
      "==== K: 9 ====\n",
      "K-Means akan ditentukan oleh atribut-atribut di bawah ini:\n",
      "[Umur Kanal_Penjualan ]\n",
      "STEP: 1\n",
      "STEP: 2\n",
      "STEP: 3\n",
      "STEP: 4\n",
      "STEP: 5\n",
      "STEP: 6\n",
      "STEP: 7\n",
      "STEP: 8\n",
      "STEP: 9\n",
      "STEP: 10\n",
      "STEP: 11\n",
      "STEP: 12\n",
      "STEP: 13\n",
      "STEP: 14\n",
      "STEP: 15\n",
      "STEP: 16\n",
      "STEP: 17\n",
      "STEP: 18\n",
      "STEP: 19\n",
      "STEP: 20\n",
      "STEP: 21\n",
      "STEP: 22\n",
      "STEP: 23\n",
      "STEP: 24\n",
      "STEP: 25\n",
      "STEP: 26\n",
      "STEP: 27\n",
      "STEP: 28\n",
      "STEP: 29\n",
      "It's convergence!\n",
      "==== K: 10 ====\n",
      "K-Means akan ditentukan oleh atribut-atribut di bawah ini:\n",
      "[Umur Kanal_Penjualan ]\n",
      "STEP: 1\n",
      "STEP: 2\n",
      "STEP: 3\n",
      "STEP: 4\n",
      "STEP: 5\n",
      "STEP: 6\n",
      "STEP: 7\n",
      "STEP: 8\n",
      "STEP: 9\n",
      "It's convergence!\n",
      "==== K: 11 ====\n",
      "K-Means akan ditentukan oleh atribut-atribut di bawah ini:\n",
      "[Umur Kanal_Penjualan ]\n",
      "STEP: 1\n",
      "STEP: 2\n",
      "STEP: 3\n",
      "STEP: 4\n",
      "STEP: 5\n",
      "STEP: 6\n",
      "STEP: 7\n",
      "STEP: 8\n",
      "STEP: 9\n",
      "STEP: 10\n",
      "STEP: 11\n",
      "STEP: 12\n",
      "STEP: 13\n",
      "STEP: 14\n",
      "STEP: 15\n",
      "STEP: 16\n",
      "STEP: 17\n",
      "STEP: 18\n",
      "STEP: 19\n",
      "It's convergence!\n",
      "==== K: 12 ====\n",
      "K-Means akan ditentukan oleh atribut-atribut di bawah ini:\n",
      "[Umur Kanal_Penjualan ]\n",
      "STEP: 1\n",
      "STEP: 2\n",
      "STEP: 3\n",
      "STEP: 4\n",
      "STEP: 5\n",
      "STEP: 6\n",
      "STEP: 7\n",
      "STEP: 8\n",
      "STEP: 9\n",
      "STEP: 10\n",
      "STEP: 11\n",
      "STEP: 12\n",
      "STEP: 13\n",
      "STEP: 14\n",
      "STEP: 15\n",
      "STEP: 16\n",
      "STEP: 17\n",
      "STEP: 18\n",
      "STEP: 19\n",
      "STEP: 20\n",
      "STEP: 21\n",
      "It's convergence!\n",
      "==== K: 13 ====\n",
      "K-Means akan ditentukan oleh atribut-atribut di bawah ini:\n",
      "[Umur Kanal_Penjualan ]\n",
      "STEP: 1\n",
      "STEP: 2\n",
      "STEP: 3\n",
      "STEP: 4\n",
      "STEP: 5\n",
      "STEP: 6\n",
      "STEP: 7\n",
      "STEP: 8\n",
      "STEP: 9\n",
      "STEP: 10\n",
      "STEP: 11\n",
      "STEP: 12\n",
      "STEP: 13\n",
      "STEP: 14\n",
      "STEP: 15\n",
      "STEP: 16\n",
      "STEP: 17\n",
      "STEP: 18\n",
      "STEP: 19\n",
      "STEP: 20\n",
      "STEP: 21\n",
      "STEP: 22\n",
      "It's convergence!\n",
      "==== K: 14 ====\n",
      "K-Means akan ditentukan oleh atribut-atribut di bawah ini:\n",
      "[Umur Kanal_Penjualan ]\n",
      "STEP: 1\n",
      "STEP: 2\n",
      "STEP: 3\n",
      "STEP: 4\n",
      "STEP: 5\n",
      "STEP: 6\n",
      "STEP: 7\n",
      "STEP: 8\n",
      "STEP: 9\n",
      "STEP: 10\n",
      "STEP: 11\n",
      "STEP: 12\n",
      "STEP: 13\n",
      "It's convergence!\n",
      "==== K: 15 ====\n",
      "K-Means akan ditentukan oleh atribut-atribut di bawah ini:\n",
      "[Umur Kanal_Penjualan ]\n",
      "STEP: 1\n",
      "STEP: 2\n",
      "STEP: 3\n",
      "STEP: 4\n",
      "STEP: 5\n",
      "STEP: 6\n",
      "STEP: 7\n",
      "STEP: 8\n",
      "STEP: 9\n",
      "STEP: 10\n",
      "STEP: 11\n",
      "STEP: 12\n",
      "STEP: 13\n",
      "STEP: 14\n",
      "STEP: 15\n",
      "It's convergence!\n"
     ]
    }
   ],
   "source": [
    "# # No need to train again, i've already save the clusters\n",
    "# # But if you want to try the training part, just uncomment this\n",
    "\n",
    "# MAX_K = 15\n",
    "\n",
    "# import pandas as pd\n",
    "\n",
    "# data_run_history = {\n",
    "#   \"data\" : \"2 Data Kanal Penjualan dan Umur\", \n",
    "#   \"k_runs\" : {}\n",
    "# }\n",
    "\n",
    "# for i in range(1, MAX_K+1):\n",
    "#   print(\"==== K:\", i, \"====\" )\n",
    "#   run_data = {\n",
    "#     \"points\" : None,\n",
    "#     \"cluster\" : None,\n",
    "#     \"inertia\" : None\n",
    "#   }\n",
    "  \n",
    "#   model = KMeans(df_training.filter(items=[\"Umur\",\"Kanal_Penjualan\"]))\n",
    "#   run_data[\"cluster\"] = model.fit_predict(k_num=i, conv_threshold=1e-15)\n",
    "#   run_data[\"inertia\"] = model.inertia\n",
    "#   run_data[\"points\"] = model.point\n",
    "#   data_run_history[\"k_runs\"][i] = run_data"
   ]
  },
  {
   "cell_type": "code",
   "execution_count": 38,
   "metadata": {},
   "outputs": [],
   "source": [
    "## Jika melakukan training, untuk save variable training, uncomment cell ini\n",
    "# FILE_NAME = \"2data_umur_kanal_15k.pckl\"\n",
    "# f = open('./saved_vars/'+FILE_NAME, 'wb')\n",
    "# pickle.dump(data_run_history, f)\n",
    "# f.close()"
   ]
  },
  {
   "cell_type": "code",
   "execution_count": null,
   "metadata": {},
   "outputs": [],
   "source": [
    "# Jika melakukan training, anda dapat comment cell ini, karena hanya akan me-load training history untuk laporan\n",
    "data_run_history = pickle.load(urlopen(\"https://raw.githubusercontent.com/kaenova/Malin_Tubes1/main/notebooks/saved_vars/2data_umur_kanal_15k.pckl\"))\n",
    "data_run_history"
   ]
  },
  {
   "cell_type": "markdown",
   "metadata": {},
   "source": [
    "Searching best k value with Elbow Method"
   ]
  },
  {
   "cell_type": "code",
   "execution_count": 40,
   "metadata": {
    "scrolled": true
   },
   "outputs": [
    {
     "data": {
      "text/plain": [
       "Text(0.5, 1.0, 'Performance on K Values (2 Data)')"
      ]
     },
     "execution_count": 40,
     "metadata": {},
     "output_type": "execute_result"
    },
    {
     "data": {
      "image/png": "[encoded data removed]",
      "text/plain": [
       "<Figure size 432x288 with 1 Axes>"
      ]
     },
     "metadata": {
      "needs_background": "light"
     },
     "output_type": "display_data"
    }
   ],
   "source": [
    "plt.plot([i for i in data_run_history[\"k_runs\"].keys()], [ data_run_history[\"k_runs\"][i][\"inertia\"] for i in data_run_history[\"k_runs\"].keys()], 'bx-')\n",
    "plt.xlabel(\"K Values\")\n",
    "plt.ylabel(\"Inertia Values\")\n",
    "plt.title(\"Performance on K Values (2 Data)\")"
   ]
  },
  {
   "cell_type": "markdown",
   "metadata": {},
   "source": [
    "Best K = 3"
   ]
  },
  {
   "cell_type": "code",
   "execution_count": 43,
   "metadata": {
    "scrolled": true
   },
   "outputs": [
    {
     "data": {
      "text/html": [
       "<div>\n",
       "<style scoped>\n",
       "    .dataframe tbody tr th:only-of-type {\n",
       "        vertical-align: middle;\n",
       "    }\n",
       "\n",
       "    .dataframe tbody tr th {\n",
       "        vertical-align: top;\n",
       "    }\n",
       "\n",
       "    .dataframe thead th {\n",
       "        text-align: right;\n",
       "    }\n",
       "</style>\n",
       "<table border=\"1\" class=\"dataframe\">\n",
       "  <thead>\n",
       "    <tr style=\"text-align: right;\">\n",
       "      <th></th>\n",
       "      <th>Umur</th>\n",
       "      <th>Kanal_Penjualan</th>\n",
       "      <th>Cluster</th>\n",
       "    </tr>\n",
       "    <tr>\n",
       "      <th>id</th>\n",
       "      <th></th>\n",
       "      <th></th>\n",
       "      <th></th>\n",
       "    </tr>\n",
       "  </thead>\n",
       "  <tbody>\n",
       "    <tr>\n",
       "      <th>1</th>\n",
       "      <td>30.0</td>\n",
       "      <td>152.0</td>\n",
       "      <td>1.0</td>\n",
       "    </tr>\n",
       "    <tr>\n",
       "      <th>2</th>\n",
       "      <td>48.0</td>\n",
       "      <td>29.0</td>\n",
       "      <td>0.0</td>\n",
       "    </tr>\n",
       "    <tr>\n",
       "      <th>4</th>\n",
       "      <td>58.0</td>\n",
       "      <td>124.0</td>\n",
       "      <td>2.0</td>\n",
       "    </tr>\n",
       "    <tr>\n",
       "      <th>6</th>\n",
       "      <td>21.0</td>\n",
       "      <td>152.0</td>\n",
       "      <td>1.0</td>\n",
       "    </tr>\n",
       "    <tr>\n",
       "      <th>9</th>\n",
       "      <td>20.0</td>\n",
       "      <td>160.0</td>\n",
       "      <td>1.0</td>\n",
       "    </tr>\n",
       "    <tr>\n",
       "      <th>...</th>\n",
       "      <td>...</td>\n",
       "      <td>...</td>\n",
       "      <td>...</td>\n",
       "    </tr>\n",
       "    <tr>\n",
       "      <th>285827</th>\n",
       "      <td>23.0</td>\n",
       "      <td>152.0</td>\n",
       "      <td>1.0</td>\n",
       "    </tr>\n",
       "    <tr>\n",
       "      <th>285828</th>\n",
       "      <td>21.0</td>\n",
       "      <td>152.0</td>\n",
       "      <td>1.0</td>\n",
       "    </tr>\n",
       "    <tr>\n",
       "      <th>285829</th>\n",
       "      <td>23.0</td>\n",
       "      <td>152.0</td>\n",
       "      <td>1.0</td>\n",
       "    </tr>\n",
       "    <tr>\n",
       "      <th>285830</th>\n",
       "      <td>68.0</td>\n",
       "      <td>124.0</td>\n",
       "      <td>2.0</td>\n",
       "    </tr>\n",
       "    <tr>\n",
       "      <th>285831</th>\n",
       "      <td>45.0</td>\n",
       "      <td>26.0</td>\n",
       "      <td>0.0</td>\n",
       "    </tr>\n",
       "  </tbody>\n",
       "</table>\n",
       "<p>166396 rows × 3 columns</p>\n",
       "</div>"
      ],
      "text/plain": [
       "        Umur  Kanal_Penjualan  Cluster\n",
       "id                                    \n",
       "1       30.0            152.0      1.0\n",
       "2       48.0             29.0      0.0\n",
       "4       58.0            124.0      2.0\n",
       "6       21.0            152.0      1.0\n",
       "9       20.0            160.0      1.0\n",
       "...      ...              ...      ...\n",
       "285827  23.0            152.0      1.0\n",
       "285828  21.0            152.0      1.0\n",
       "285829  23.0            152.0      1.0\n",
       "285830  68.0            124.0      2.0\n",
       "285831  45.0             26.0      0.0\n",
       "\n",
       "[166396 rows x 3 columns]"
      ]
     },
     "execution_count": 43,
     "metadata": {},
     "output_type": "execute_result"
    }
   ],
   "source": [
    "df_processing = df_training.copy()\n",
    "df_processing = df_processing.filter(items=[\"id\", \"Umur\", \"Kanal_Penjualan\"])\n",
    "df_processing[\"Cluster\"] = data_run_history[\"k_runs\"][3][\"cluster\"]\n",
    "df_processing"
   ]
  },
  {
   "cell_type": "markdown",
   "metadata": {},
   "source": [
    "Silhoutte Score"
   ]
  },
  {
   "cell_type": "code",
   "execution_count": 44,
   "metadata": {},
   "outputs": [
    {
     "data": {
      "text/plain": [
       "array([0.76436912, 0.86902934, 0.62644537, ..., 0.83926655, 0.56977806,\n",
       "       0.87456553])"
      ]
     },
     "execution_count": 44,
     "metadata": {},
     "output_type": "execute_result"
    }
   ],
   "source": [
    "X = df_processing.filter(items=[\"Umur\", \"Kanal_Penjualan\"])\n",
    "y = df_processing[\"Cluster\"]\n",
    "sil_sample = silhouette_samples(X, y)\n",
    "sil_sample"
   ]
  },
  {
   "cell_type": "code",
   "execution_count": 51,
   "metadata": {},
   "outputs": [
    {
     "name": "stdout",
     "output_type": "stream",
     "text": [
      "rata-rata silhouette cluster 0 : 0.8257767814719873\n",
      "rata-rata silhouette cluster 1 : 0.7202374958910577\n",
      "rata-rata silhouette cluster 2 : 0.4340254817554069\n",
      "rata-rata silhouette : 0.6600132530394839\n"
     ]
    },
    {
     "data": {
      "text/plain": [
       "<matplotlib.lines.Line2D at 0x240255f8a00>"
      ]
     },
     "execution_count": 51,
     "metadata": {},
     "output_type": "execute_result"
    },
    {
     "data": {
      "image/png": "[encoded data removed]",
      "text/plain": [
       "<Figure size 936x504 with 1 Axes>"
      ]
     },
     "metadata": {
      "needs_background": "light"
     },
     "output_type": "display_data"
    }
   ],
   "source": [
    "# ref : https://scikit-learn.org/stable/auto_examples/cluster/plot_kmeans_silhouette_analysis.html\n",
    "import statistics\n",
    "n_clusters = len(df_processing[\"Cluster\"].unique())\n",
    "fig = plt.figure()\n",
    "ax = plt.axes()\n",
    "fig.set_size_inches(13, 7)\n",
    "ax.set_xlim([-0.1, 1])\n",
    "ax.set_ylim([0, len(X) + (n_clusters + 1) * 10])\n",
    "y_lower = 10\n",
    "sil_total = 0\n",
    "for i in range(n_clusters):\n",
    "    ith_cluster_silhouette_values = \\\n",
    "            sil_sample[df_processing[\"Cluster\"] == i]\n",
    "    print(\"rata-rata silhouette cluster\",i, \":\" , statistics.mean(ith_cluster_silhouette_values))\n",
    "    sil_total += statistics.mean(ith_cluster_silhouette_values)\n",
    "    ith_cluster_silhouette_values.sort()\n",
    "    size_cluster_i = ith_cluster_silhouette_values.shape[0]\n",
    "    y_upper = y_lower + size_cluster_i\n",
    "    color = cm.nipy_spectral(float(i) / n_clusters)\n",
    "    ax.fill_betweenx(np.arange(y_lower, y_upper),\n",
    "                      0, ith_cluster_silhouette_values,\n",
    "                      facecolor=color, edgecolor=color, alpha=0.7)\n",
    "\n",
    "    # Label the silhouette plots with their cluster numbers at the middle\n",
    "    ax.text(-0.05, y_lower + 0.5 * size_cluster_i, str(i))\n",
    "\n",
    "    # Compute the new y_lower for next plot\n",
    "    y_lower = y_upper + 10  # 10 for the 0 samples\n",
    "    \n",
    "print(\"rata-rata silhouette :\", (sil_total/n_clusters) )\n",
    "ax.axvline(x=(sil_total/n_clusters), color=\"red\", linestyle=\"--\")"
   ]
  },
  {
   "cell_type": "code",
   "execution_count": 68,
   "metadata": {},
   "outputs": [
    {
     "data": {
      "text/plain": [
       "Text(0.5, 1.0, 'Scatter Plot Clustering')"
      ]
     },
     "execution_count": 68,
     "metadata": {},
     "output_type": "execute_result"
    },
    {
     "data": {
      "image/png": "[encoded data removed]",
      "text/plain": [
       "<Figure size 432x288 with 1 Axes>"
      ]
     },
     "metadata": {
      "needs_background": "light"
     },
     "output_type": "display_data"
    }
   ],
   "source": [
    "fig, ax = plt.subplots()\n",
    "ax.scatter(df_processing[\"Umur\"], df_processing[\"Kanal_Penjualan\"], c=df_processing[\"Cluster\"])\n",
    "ax.scatter(data_run_history[\"k_runs\"][3][\"points\"][:, 0], data_run_history[\"k_runs\"][3][\"points\"][:, 1], color=\"red\")\n",
    "for i in range(len(data_run_history[\"k_runs\"][3][\"points\"])):\n",
    "    ax.text(data_run_history[\"k_runs\"][3][\"points\"][i, 0]+2, data_run_history[\"k_runs\"][3][\"points\"][i, 1]+2, str(i), color=\"red\")\n",
    "ax.set_xlabel(\"Umur\")\n",
    "ax.set_ylabel(\"Kanal_Penjualan\")\n",
    "ax.set_title(\"Scatter Plot Clustering\")"
   ]
  }
 ],
 "metadata": {
  "interpreter": {
   "hash": "ac59ebe37160ed0dfa835113d9b8498d9f09ceb179beaac4002f036b9467c963"
  },
  "kernelspec": {
   "display_name": "Python 3",
   "language": "python",
   "name": "python3"
  },
  "language_info": {
   "codemirror_mode": {
    "name": "ipython",
    "version": 3
   },
   "file_extension": ".py",
   "mimetype": "text/x-python",
   "name": "python",
   "nbconvert_exporter": "python",
   "pygments_lexer": "ipython3",
   "version": "3.8.3"
  }
 },
 "nbformat": 4,
 "nbformat_minor": 2
}
