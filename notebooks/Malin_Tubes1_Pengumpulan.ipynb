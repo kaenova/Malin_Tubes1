{
 "cells": [
  {
   "cell_type": "markdown",
   "metadata": {},
   "source": [
    "# Pembelajaran Mesin: Tugas Besar 1\n",
    "\n",
    "Kaenova Mahendra Auditama  \n",
    "IF-43-02  \n",
    "1301190324  \n",
    "  \n",
    "Pada kodingan ini, saya mencoba untuk membuat sebuah model yang akan digunakan untuk membuat cluster pada suatu data. Data yang diberikan merupakan data ketertarikan pelanggan untuk membeli kendaraan baru. Pada akhirnya, saya menggunakan algoritma k-means karena kami diminta untuk membuat model dalam bentuk unsupervised learning\n",
    "  \n",
    "  \n",
    "<sup>\\*runs on AI Lab computer</sup>"
   ]
  },
  {
   "cell_type": "markdown",
   "metadata": {},
   "source": [
    "# Import Library"
   ]
  },
  {
   "cell_type": "code",
   "execution_count": 13,
   "metadata": {},
   "outputs": [],
   "source": [
    "import pandas as pd\n",
    "import matplotlib.pyplot as plt\n",
    "import matplotlib_inline\n",
    "import numpy as np\n",
    "import pickle\n",
    "import random\n",
    "import math\n",
    "from sklearn.preprocessing import MinMaxScaler"
   ]
  },
  {
   "cell_type": "markdown",
   "metadata": {},
   "source": [
    "# Import Data"
   ]
  },
  {
   "cell_type": "code",
   "execution_count": 3,
   "metadata": {},
   "outputs": [
    {
     "data": {
      "text/html": [
       "<div>\n",
       "<style scoped>\n",
       "    .dataframe tbody tr th:only-of-type {\n",
       "        vertical-align: middle;\n",
       "    }\n",
       "\n",
       "    .dataframe tbody tr th {\n",
       "        vertical-align: top;\n",
       "    }\n",
       "\n",
       "    .dataframe thead th {\n",
       "        text-align: right;\n",
       "    }\n",
       "</style>\n",
       "<table border=\"1\" class=\"dataframe\">\n",
       "  <thead>\n",
       "    <tr style=\"text-align: right;\">\n",
       "      <th></th>\n",
       "      <th>id</th>\n",
       "      <th>Jenis_Kelamin</th>\n",
       "      <th>Umur</th>\n",
       "      <th>SIM</th>\n",
       "      <th>Kode_Daerah</th>\n",
       "      <th>Sudah_Asuransi</th>\n",
       "      <th>Umur_Kendaraan</th>\n",
       "      <th>Kendaraan_Rusak</th>\n",
       "      <th>Premi</th>\n",
       "      <th>Kanal_Penjualan</th>\n",
       "      <th>Lama_Berlangganan</th>\n",
       "      <th>Tertarik</th>\n",
       "    </tr>\n",
       "  </thead>\n",
       "  <tbody>\n",
       "    <tr>\n",
       "      <th>0</th>\n",
       "      <td>1</td>\n",
       "      <td>Wanita</td>\n",
       "      <td>30.0</td>\n",
       "      <td>1.0</td>\n",
       "      <td>33.0</td>\n",
       "      <td>1.0</td>\n",
       "      <td>&lt; 1 Tahun</td>\n",
       "      <td>Tidak</td>\n",
       "      <td>28029.0</td>\n",
       "      <td>152.0</td>\n",
       "      <td>97.0</td>\n",
       "      <td>0</td>\n",
       "    </tr>\n",
       "    <tr>\n",
       "      <th>1</th>\n",
       "      <td>2</td>\n",
       "      <td>Pria</td>\n",
       "      <td>48.0</td>\n",
       "      <td>1.0</td>\n",
       "      <td>39.0</td>\n",
       "      <td>0.0</td>\n",
       "      <td>&gt; 2 Tahun</td>\n",
       "      <td>Pernah</td>\n",
       "      <td>25800.0</td>\n",
       "      <td>29.0</td>\n",
       "      <td>158.0</td>\n",
       "      <td>0</td>\n",
       "    </tr>\n",
       "    <tr>\n",
       "      <th>2</th>\n",
       "      <td>3</td>\n",
       "      <td>NaN</td>\n",
       "      <td>21.0</td>\n",
       "      <td>1.0</td>\n",
       "      <td>46.0</td>\n",
       "      <td>1.0</td>\n",
       "      <td>&lt; 1 Tahun</td>\n",
       "      <td>Tidak</td>\n",
       "      <td>32733.0</td>\n",
       "      <td>160.0</td>\n",
       "      <td>119.0</td>\n",
       "      <td>0</td>\n",
       "    </tr>\n",
       "    <tr>\n",
       "      <th>3</th>\n",
       "      <td>4</td>\n",
       "      <td>Wanita</td>\n",
       "      <td>58.0</td>\n",
       "      <td>1.0</td>\n",
       "      <td>48.0</td>\n",
       "      <td>0.0</td>\n",
       "      <td>1-2 Tahun</td>\n",
       "      <td>Tidak</td>\n",
       "      <td>2630.0</td>\n",
       "      <td>124.0</td>\n",
       "      <td>63.0</td>\n",
       "      <td>0</td>\n",
       "    </tr>\n",
       "    <tr>\n",
       "      <th>4</th>\n",
       "      <td>5</td>\n",
       "      <td>Pria</td>\n",
       "      <td>50.0</td>\n",
       "      <td>1.0</td>\n",
       "      <td>35.0</td>\n",
       "      <td>0.0</td>\n",
       "      <td>&gt; 2 Tahun</td>\n",
       "      <td>NaN</td>\n",
       "      <td>34857.0</td>\n",
       "      <td>88.0</td>\n",
       "      <td>194.0</td>\n",
       "      <td>0</td>\n",
       "    </tr>\n",
       "  </tbody>\n",
       "</table>\n",
       "</div>"
      ],
      "text/plain": [
       "   id Jenis_Kelamin  Umur  SIM  Kode_Daerah  Sudah_Asuransi Umur_Kendaraan  \\\n",
       "0   1        Wanita  30.0  1.0         33.0             1.0      < 1 Tahun   \n",
       "1   2          Pria  48.0  1.0         39.0             0.0      > 2 Tahun   \n",
       "2   3           NaN  21.0  1.0         46.0             1.0      < 1 Tahun   \n",
       "3   4        Wanita  58.0  1.0         48.0             0.0      1-2 Tahun   \n",
       "4   5          Pria  50.0  1.0         35.0             0.0      > 2 Tahun   \n",
       "\n",
       "  Kendaraan_Rusak    Premi  Kanal_Penjualan  Lama_Berlangganan  Tertarik  \n",
       "0           Tidak  28029.0            152.0               97.0         0  \n",
       "1          Pernah  25800.0             29.0              158.0         0  \n",
       "2           Tidak  32733.0            160.0              119.0         0  \n",
       "3           Tidak   2630.0            124.0               63.0         0  \n",
       "4             NaN  34857.0             88.0              194.0         0  "
      ]
     },
     "execution_count": 3,
     "metadata": {},
     "output_type": "execute_result"
    }
   ],
   "source": [
    "df_raw = pd.read_csv(\"https://raw.githubusercontent.com/kaenova/Malin_Tubes1/main/data/raw/kendaraan_train.csv\")\n",
    "df_raw.head()"
   ]
  },
  {
   "cell_type": "code",
   "execution_count": 4,
   "metadata": {},
   "outputs": [
    {
     "data": {
      "text/plain": [
       "285831"
      ]
     },
     "execution_count": 4,
     "metadata": {},
     "output_type": "execute_result"
    }
   ],
   "source": [
    "len(df_raw)"
   ]
  },
  {
   "cell_type": "markdown",
   "metadata": {},
   "source": [
    "# Data Preprocessing"
   ]
  },
  {
   "cell_type": "markdown",
   "metadata": {},
   "source": [
    "## Drop data yang ada NaN"
   ]
  },
  {
   "cell_type": "code",
   "execution_count": 5,
   "metadata": {},
   "outputs": [
    {
     "data": {
      "text/plain": [
       "171068"
      ]
     },
     "execution_count": 5,
     "metadata": {},
     "output_type": "execute_result"
    }
   ],
   "source": [
    "df_dropna = df_raw.dropna(how=\"any\")\n",
    "len(df_dropna)"
   ]
  },
  {
   "cell_type": "markdown",
   "metadata": {},
   "source": [
    "## Drop data Categorical"
   ]
  },
  {
   "cell_type": "code",
   "execution_count": 6,
   "metadata": {},
   "outputs": [
    {
     "data": {
      "text/html": [
       "<div>\n",
       "<style scoped>\n",
       "    .dataframe tbody tr th:only-of-type {\n",
       "        vertical-align: middle;\n",
       "    }\n",
       "\n",
       "    .dataframe tbody tr th {\n",
       "        vertical-align: top;\n",
       "    }\n",
       "\n",
       "    .dataframe thead th {\n",
       "        text-align: right;\n",
       "    }\n",
       "</style>\n",
       "<table border=\"1\" class=\"dataframe\">\n",
       "  <thead>\n",
       "    <tr style=\"text-align: right;\">\n",
       "      <th></th>\n",
       "      <th>id</th>\n",
       "      <th>Umur</th>\n",
       "      <th>Premi</th>\n",
       "      <th>Lama_Berlangganan</th>\n",
       "      <th>Tertarik</th>\n",
       "    </tr>\n",
       "  </thead>\n",
       "  <tbody>\n",
       "    <tr>\n",
       "      <th>4864</th>\n",
       "      <td>4865</td>\n",
       "      <td>63.0</td>\n",
       "      <td>32317.0</td>\n",
       "      <td>62.0</td>\n",
       "      <td>0</td>\n",
       "    </tr>\n",
       "    <tr>\n",
       "      <th>56706</th>\n",
       "      <td>56707</td>\n",
       "      <td>25.0</td>\n",
       "      <td>2630.0</td>\n",
       "      <td>175.0</td>\n",
       "      <td>0</td>\n",
       "    </tr>\n",
       "    <tr>\n",
       "      <th>38840</th>\n",
       "      <td>38841</td>\n",
       "      <td>23.0</td>\n",
       "      <td>75071.0</td>\n",
       "      <td>78.0</td>\n",
       "      <td>0</td>\n",
       "    </tr>\n",
       "    <tr>\n",
       "      <th>34617</th>\n",
       "      <td>34618</td>\n",
       "      <td>52.0</td>\n",
       "      <td>47236.0</td>\n",
       "      <td>76.0</td>\n",
       "      <td>0</td>\n",
       "    </tr>\n",
       "    <tr>\n",
       "      <th>263798</th>\n",
       "      <td>263799</td>\n",
       "      <td>43.0</td>\n",
       "      <td>2630.0</td>\n",
       "      <td>131.0</td>\n",
       "      <td>0</td>\n",
       "    </tr>\n",
       "  </tbody>\n",
       "</table>\n",
       "</div>"
      ],
      "text/plain": [
       "            id  Umur    Premi  Lama_Berlangganan  Tertarik\n",
       "4864      4865  63.0  32317.0               62.0         0\n",
       "56706    56707  25.0   2630.0              175.0         0\n",
       "38840    38841  23.0  75071.0               78.0         0\n",
       "34617    34618  52.0  47236.0               76.0         0\n",
       "263798  263799  43.0   2630.0              131.0         0"
      ]
     },
     "execution_count": 6,
     "metadata": {},
     "output_type": "execute_result"
    }
   ],
   "source": [
    "df_dropna_dropcategorical = df_dropna.drop(axis=1, columns=[\"Jenis_Kelamin\", \"SIM\", \"Sudah_Asuransi\", \"Kode_Daerah\", \"Umur_Kendaraan\", \"Kendaraan_Rusak\", \"Kanal_Penjualan\"])\n",
    "df_dropna_dropcategorical.sample(5)"
   ]
  },
  {
   "cell_type": "markdown",
   "metadata": {},
   "source": [
    "## Check Outlier"
   ]
  },
  {
   "cell_type": "code",
   "execution_count": 9,
   "metadata": {},
   "outputs": [
    {
     "data": {
      "text/plain": [
       "Text(0.5, 1.0, 'Lama Berlangganan')"
      ]
     },
     "execution_count": 9,
     "metadata": {},
     "output_type": "execute_result"
    },
    {
     "data": {
      "image/png": "[encoded data removed]",
      "text/plain": [
       "<Figure size 1080x360 with 3 Axes>"
      ]
     },
     "metadata": {
      "needs_background": "light"
     },
     "output_type": "display_data"
    }
   ],
   "source": [
    "fig, (g1, g2, g3) = plt.subplots(1,3)\n",
    "fig.suptitle(\"Box Plot masing-masing atribut\")\n",
    "fig.set_size_inches(15,5)\n",
    "g1.boxplot(df_dropna_dropcategorical[\"Umur\"])\n",
    "g1.set_title(\"Umur\")\n",
    "g2.boxplot(df_dropna_dropcategorical[\"Premi\"])\n",
    "g2.set_title(\"Premi\")\n",
    "g3.boxplot(df_dropna_dropcategorical[\"Lama_Berlangganan\"])\n",
    "g3.set_title(\"Lama Berlangganan\")"
   ]
  },
  {
   "cell_type": "markdown",
   "metadata": {},
   "source": [
    "## Drop Outlier menggunakan IQR method"
   ]
  },
  {
   "cell_type": "code",
   "execution_count": 11,
   "metadata": {},
   "outputs": [
    {
     "data": {
      "text/plain": [
       "166396"
      ]
     },
     "execution_count": 11,
     "metadata": {},
     "output_type": "execute_result"
    }
   ],
   "source": [
    "describe = df_dropna_dropcategorical.describe()\n",
    "describe\n",
    "iqr_premi = float(describe[\"Premi\"].loc[\"75%\"] - describe[\"Premi\"].loc[\"25%\"])\n",
    "q1_bound = float(describe[\"Premi\"].loc[\"25%\"]) - (iqr_premi * 1.5)\n",
    "q2_bound = float(describe[\"Premi\"].loc[\"75%\"]) + (iqr_premi * 1.5)\n",
    "final_df = df_dropna_dropcategorical.copy()\n",
    "final_df.reset_index(drop=True, inplace=True)\n",
    "final_df = final_df[(final_df[\"Premi\"] > q1_bound) & (final_df[\"Premi\"] < q2_bound)]\n",
    "len(final_df)"
   ]
  },
  {
   "cell_type": "code",
   "execution_count": 12,
   "metadata": {},
   "outputs": [
    {
     "data": {
      "text/plain": [
       "Text(0.5, 1.0, 'Lama Berlangganan')"
      ]
     },
     "execution_count": 12,
     "metadata": {},
     "output_type": "execute_result"
    },
    {
     "data": {
      "image/png": "[encoded data removed]",
      "text/plain": [
       "<Figure size 1080x360 with 3 Axes>"
      ]
     },
     "metadata": {
      "needs_background": "light"
     },
     "output_type": "display_data"
    }
   ],
   "source": [
    "fig, (g1, g2, g3) = plt.subplots(1,3)\n",
    "fig.suptitle(\"Box Plot masing-masing atribut\")\n",
    "fig.set_size_inches(15,5)\n",
    "g1.boxplot(final_df[\"Umur\"])\n",
    "g1.set_title(\"Umur\")\n",
    "g2.boxplot(final_df[\"Premi\"])\n",
    "g2.set_title(\"Premi\")\n",
    "g3.boxplot(final_df[\"Lama_Berlangganan\"])\n",
    "g3.set_title(\"Lama Berlangganan\")"
   ]
  },
  {
   "cell_type": "markdown",
   "metadata": {},
   "source": [
    "# Modelling"
   ]
  },
  {
   "cell_type": "code",
   "execution_count": 14,
   "metadata": {},
   "outputs": [],
   "source": [
    "class KMeans:\n",
    "  training_arr = None\n",
    "  point = None\n",
    "  inertia = None\n",
    "  \n",
    "  def __init__(self, df: pd.DataFrame):\n",
    "    '''\n",
    "    Kelas ini digunakan untuk menyiapkan dataframe yang akan ditraining.\n",
    "    Pastikan kolom bernama id atau sejenis sudah di drop tidak termasuk ke dalam dataframe.\n",
    "    '''\n",
    "    print(\"K-Means akan ditentukan oleh atribut-atribut di bawah ini:\")\n",
    "    print(\"[\", end=\"\")\n",
    "    for i in range(len(df.columns)):\n",
    "      print(df.columns[i] + \" \", end=\"\")\n",
    "    print(\"]\", end=\"\\n\")\n",
    "    self.training_arr = df.to_numpy()\n",
    "    \n",
    "  def fit_predict(self, k_num:int = 3, max_step:int = 500, conv_threshold: float = 1e-5) -> np.array:\n",
    "    '''\n",
    "    Membuat model KMeans dengan K tertentu. Akan mengkembalikan hasil prediksi cluster.\n",
    "    Poin kluster akan disimpan pada variable point\n",
    "    '''\n",
    "    point = np.zeros((k_num, len(self.training_arr[0])))\n",
    "    \n",
    "    # Setting up cluster arry for every record\n",
    "    cluster = np.zeros(len(self.training_arr))\n",
    "    \n",
    "    # normalize data\n",
    "    data = self.__normalize_data__(self.training_arr)\n",
    "    \n",
    "    # Setting up random point ( only do this once )\n",
    "    for i in range(len(point)):\n",
    "      point[i] = data[random.randrange(0, len(data))]\n",
    "        \n",
    "    # Setup convergence and counter\n",
    "    convergence = False\n",
    "    step = 0 \n",
    "        \n",
    "    while not convergence and (step < max_step):\n",
    "      initial_point = point\n",
    "      distance = self.__calculate_distance__(data, point)\n",
    "      cluster = self.__clustering__(distance)\n",
    "      new_point = self.__point_nomralization__(data, point, cluster)\n",
    "      convergence = self.__convergence_check__(initial_point, new_point, conv_threshold)\n",
    "      \n",
    "      if convergence:\n",
    "        print(\"It's convergence!\")\n",
    "      else:\n",
    "        point = new_point\n",
    "        step += 1\n",
    "        print(\"STEP:\", step)\n",
    "      \n",
    "    \n",
    "    self.inertia = self.__calculate_inertia__(data, cluster, point)\n",
    "    self.point = self.__denormalize_point__(point, self.training_arr)\n",
    "    return cluster\n",
    "    \n",
    "  # Made by Kaenova Mahendra Auditama | 1301190324 | IF-43-02\n",
    "  def get_cluster_centroid(self) -> np.array:\n",
    "    '''\n",
    "    Fungsi ini digunakan untuk mengambil point\n",
    "    '''\n",
    "    if type(self.point) == \"NoneType\":\n",
    "      print(\"Nothing returned, point not initialize. Try using fit_predict first.\")\n",
    "      return\n",
    "    return self.point\n",
    "  \n",
    "  def __clustering__(self, distance: np.array) -> np.array:\n",
    "    '''\n",
    "    Fungsi ini akan mengembalikan hasil clustering berdasarkan distance\n",
    "    '''\n",
    "    cluster = np.zeros(len(distance))\n",
    "    for i in range(len(cluster)):\n",
    "      cluster[i] = np.argmin(distance[i])\n",
    "    return cluster\n",
    "  # Made by Kaenova Mahendra Auditama | 1301190324 | IF-43-02\n",
    "  def __calculate_distance__(self, data:np.array, point: np.array) -> np.array:\n",
    "    '''\n",
    "    Fungsi ini akan menghitung setiap titik dengan point dan mengkembalikan jarak dari titik ke point\n",
    "    '''\n",
    "    distance = np.zeros((len(data), len(point)))\n",
    "    \n",
    "    for i in range(len(data)):\n",
    "      current_record = data[i]\n",
    "      for j in range(len(point)):\n",
    "        current_point = point[j]\n",
    "        # numpy eucledience distance\n",
    "        distance[i][j] = np.linalg.norm(current_point - current_record)\n",
    "    \n",
    "    return distance\n",
    "  \n",
    "  def __point_nomralization__(self, data:np.array, point:np.array, cluster:np.array) -> (np.array, np.array):\n",
    "    '''\n",
    "    Fungsi ini digunakan untuk clustering dan normalisasi point\n",
    "    '''\n",
    "    new_point = np.zeros((len(point), len(point[0])))\n",
    "    counter_array = np.zeros(len(point))\n",
    "    for i in range(len(cluster)):\n",
    "      new_point[int(cluster[i])] = new_point[int(cluster[i])] + data[i]\n",
    "      counter_array[int(cluster[i])] += 1\n",
    "      \n",
    "    unique_on_cluster = np.unique(cluster)\n",
    "    for i in range(len(point)):\n",
    "      # nan handling\n",
    "      if i not in unique_on_cluster:\n",
    "        new_point[i] = point[i]\n",
    "      else:\n",
    "        new_point[i] = np.true_divide(new_point[i], counter_array[i])\n",
    "      \n",
    "    return new_point\n",
    "  # Made by Kaenova Mahendra Auditama | 1301190324 | IF-43-02\n",
    "  def __convergence_check__(self, points1: np.array, points2:np.array, threshold: float) -> bool:\n",
    "    '''\n",
    "    Fungsi ini untuk mengecek convergence berdasarkan threshold yang dibuat.\n",
    "    titik cluster pertama akan dibandingkan dengan titik cluster kedua.\n",
    "    note: maybe i should use euclediance distance insted of menghitung satu-satu\n",
    "    '''\n",
    "    local_convergence = False\n",
    "    normalize_threshold_positive, normalize_threshold_negative  = 1 + threshold, 1 - threshold\n",
    "    points_counter = 0\n",
    "    center = np.zeros(len(points1[0]))\n",
    "    for i in range(len(points1)):\n",
    "      current_first_point, current_second_point = points1[i], points2[i]\n",
    "      distance_first_point, distance_second_point = np.linalg.norm(current_first_point - center), np.linalg.norm(current_second_point - center)\n",
    "      distance_threshold_positive = distance_first_point * normalize_threshold_positive\n",
    "      distance_threshold_negative = distance_first_point * normalize_threshold_negative\n",
    "      if distance_threshold_positive > distance_second_point and distance_threshold_negative < distance_second_point:\n",
    "        points_counter += 1\n",
    "    \n",
    "    if points_counter == len(points1):\n",
    "      local_convergence = True\n",
    "    \n",
    "    return local_convergence\n",
    "  \n",
    "  def __calculate_inertia__(self, data:np.array, cluster:np.array, points:np.array) -> np.array:\n",
    "    '''\n",
    "    K-Means: Inertia\n",
    "    Inertia measures how well a dataset was clustered by K-Means. It is calculated by measuring the distance between each data point and its centroid, squaring this distance, and summing these squares across one cluster.\n",
    "    ref: https://www.codecademy.com/learn/machine-learning/modules/dspath-clustering/cheatsheet\n",
    "    '''\n",
    "    inertia = 0\n",
    "    for i in range(len(data)):\n",
    "      inertia += math.sqrt(np.linalg.norm(data[i] - points[int(cluster[i])]))\n",
    "      \n",
    "    return inertia\n",
    "  \n",
    "  def __normalize_data__(self, data:np.array) -> np.array:\n",
    "    '''\n",
    "    Fungsi ini digunakan untuk menormalisasikan data dengan menggunakan min-max scaling. Sehingga data berjenis dan bersatuan apapun data diproses dengan baik.\n",
    "    '''\n",
    "    data = data.copy()\n",
    "    for i in range(len(data[0])):\n",
    "      col_arr = data[:,i]\n",
    "      minmax = MinMaxScaler()\n",
    "      normalize = minmax.fit_transform(col_arr.reshape(-1,1)).reshape(1,-1)\n",
    "      data[:, i] = normalize[0]\n",
    "      \n",
    "    return data\n",
    "  \n",
    "  def __denormalize_point__(self, data:np.array, original_data:np.array) -> np.array:\n",
    "    '''\n",
    "    Fungsi ini digunakan untuk mendenormalisasikan point-point yang sudah dihitung menggunakan data yang ternormalisasi\n",
    "    '''\n",
    "    for i in range(len(data[0])):\n",
    "      col_arr = data[:,i]\n",
    "      col_arr_ori = original_data[:, i]\n",
    "      \n",
    "      minimums = min(col_arr_ori)\n",
    "      maximums = max(col_arr_ori)\n",
    "      for j in range(len(col_arr)):\n",
    "        col_arr[j] = ((col_arr[j]*(maximums - minimums)) + minimums)\n",
    "      data[:, i] = col_arr\n",
    "    return data"
   ]
  },
  {
   "cell_type": "markdown",
   "metadata": {},
   "source": [
    "# Eksperimen"
   ]
  },
  {
   "cell_type": "code",
   "execution_count": 24,
   "metadata": {},
   "outputs": [],
   "source": [
    "df_training = final_df.copy()\n",
    "df_training.set_index(\"id\", inplace=True)\n",
    "df_labels = df_training[\"Tertarik\"]\n",
    "df_training.drop(columns=\"Tertarik\", axis=1, inplace=True)"
   ]
  },
  {
   "cell_type": "code",
   "execution_count": 25,
   "metadata": {},
   "outputs": [
    {
     "data": {
      "text/html": [
       "<div>\n",
       "<style scoped>\n",
       "    .dataframe tbody tr th:only-of-type {\n",
       "        vertical-align: middle;\n",
       "    }\n",
       "\n",
       "    .dataframe tbody tr th {\n",
       "        vertical-align: top;\n",
       "    }\n",
       "\n",
       "    .dataframe thead th {\n",
       "        text-align: right;\n",
       "    }\n",
       "</style>\n",
       "<table border=\"1\" class=\"dataframe\">\n",
       "  <thead>\n",
       "    <tr style=\"text-align: right;\">\n",
       "      <th></th>\n",
       "      <th>Umur</th>\n",
       "      <th>Premi</th>\n",
       "      <th>Lama_Berlangganan</th>\n",
       "    </tr>\n",
       "    <tr>\n",
       "      <th>id</th>\n",
       "      <th></th>\n",
       "      <th></th>\n",
       "      <th></th>\n",
       "    </tr>\n",
       "  </thead>\n",
       "  <tbody>\n",
       "    <tr>\n",
       "      <th>1</th>\n",
       "      <td>30.0</td>\n",
       "      <td>28029.0</td>\n",
       "      <td>97.0</td>\n",
       "    </tr>\n",
       "    <tr>\n",
       "      <th>2</th>\n",
       "      <td>48.0</td>\n",
       "      <td>25800.0</td>\n",
       "      <td>158.0</td>\n",
       "    </tr>\n",
       "    <tr>\n",
       "      <th>4</th>\n",
       "      <td>58.0</td>\n",
       "      <td>2630.0</td>\n",
       "      <td>63.0</td>\n",
       "    </tr>\n",
       "    <tr>\n",
       "      <th>6</th>\n",
       "      <td>21.0</td>\n",
       "      <td>22735.0</td>\n",
       "      <td>171.0</td>\n",
       "    </tr>\n",
       "    <tr>\n",
       "      <th>9</th>\n",
       "      <td>20.0</td>\n",
       "      <td>30786.0</td>\n",
       "      <td>31.0</td>\n",
       "    </tr>\n",
       "  </tbody>\n",
       "</table>\n",
       "</div>"
      ],
      "text/plain": [
       "    Umur    Premi  Lama_Berlangganan\n",
       "id                                  \n",
       "1   30.0  28029.0               97.0\n",
       "2   48.0  25800.0              158.0\n",
       "4   58.0   2630.0               63.0\n",
       "6   21.0  22735.0              171.0\n",
       "9   20.0  30786.0               31.0"
      ]
     },
     "execution_count": 25,
     "metadata": {},
     "output_type": "execute_result"
    }
   ],
   "source": [
    "df_training.head()"
   ]
  },
  {
   "cell_type": "code",
   "execution_count": 26,
   "metadata": {},
   "outputs": [
    {
     "data": {
      "text/plain": [
       "166396"
      ]
     },
     "execution_count": 26,
     "metadata": {},
     "output_type": "execute_result"
    }
   ],
   "source": [
    "len(df_training)"
   ]
  },
  {
   "cell_type": "markdown",
   "metadata": {},
   "source": [
    "## Mencoba 3 Atribut yang digunakan"
   ]
  },
  {
   "cell_type": "code",
   "execution_count": null,
   "metadata": {},
   "outputs": [],
   "source": [
    "MAX_K = 15\n",
    "\n",
    "import pandas as pd\n",
    "\n",
    "data3_k_run_history = {\n",
    "  \"data\" : \"3 Data\", \n",
    "  \"k_runs\" : {}\n",
    "}\n",
    "\n",
    "for i in range(1, MAX_K+1):\n",
    "  print(\"==== K:\", i, \"====\" )\n",
    "  run_data = {\n",
    "    \"points\" : None,\n",
    "    \"cluster\" : None,\n",
    "    \"inertia\" : None\n",
    "  }\n",
    "  \n",
    "  model = KMeans(df_training)\n",
    "  run_data[\"cluster\"] = model.fit_predict(k_num=i, conv_threshold=1e-15)\n",
    "  run_data[\"inertia\"] = model.inertia\n",
    "  run_data[\"points\"] = model.point\n",
    "  data3_k_run_history[\"k_runs\"][i] = run_data"
   ]
  },
  {
   "cell_type": "code",
   "execution_count": null,
   "metadata": {},
   "outputs": [],
   "source": [
    "FILE_NAME = \"3data_runs_15k.pckl\"\n",
    "f = open('./saved_vars/'+FILE_NAME, 'wb')\n",
    "pickle.dump(data3_k_run_history, f)\n",
    "f.close()"
   ]
  },
  {
   "cell_type": "markdown",
   "metadata": {},
   "source": [
    "## Mencoba 2 Atribut"
   ]
  },
  {
   "cell_type": "markdown",
   "metadata": {},
   "source": [
    "### Atribut Umur dan Premi"
   ]
  },
  {
   "cell_type": "code",
   "execution_count": null,
   "metadata": {},
   "outputs": [],
   "source": [
    "MAX_K = 15\n",
    "\n",
    "import pandas as pd\n",
    "\n",
    "data2_umur_premi_k_run_history = {\n",
    "  \"data\" : \"2 Data Umur dan Premi\", \n",
    "  \"k_runs\" : {}\n",
    "}\n",
    "\n",
    "for i in range(1, MAX_K+1):\n",
    "  print(\"==== K:\", i, \"====\" )\n",
    "  run_data = {\n",
    "    \"points\" : None,\n",
    "    \"cluster\" : None,\n",
    "    \"inertia\" : None\n",
    "  }\n",
    "  \n",
    "  model = KMeans(df_training.drop(columns=\"Lama_Berlangganan\", axis=1))\n",
    "  run_data[\"cluster\"] = model.fit_predict(k_num=i, conv_threshold=1e-15)\n",
    "  run_data[\"inertia\"] = model.inertia\n",
    "  run_data[\"points\"] = model.point\n",
    "  data2_umur_premi_k_run_history[\"k_runs\"][i] = run_data"
   ]
  },
  {
   "cell_type": "code",
   "execution_count": null,
   "metadata": {},
   "outputs": [],
   "source": [
    "FILE_NAME = \"2data_umur_premi_runs_15k.pckl\"\n",
    "f = open('./saved_vars/'+FILE_NAME, 'wb')\n",
    "pickle.dump(data2_umur_premi_k_run_history, f)\n",
    "f.close()"
   ]
  },
  {
   "cell_type": "markdown",
   "metadata": {},
   "source": [
    "### Atribut Umur dan Lama_Berlangganan"
   ]
  },
  {
   "cell_type": "code",
   "execution_count": null,
   "metadata": {},
   "outputs": [],
   "source": [
    "MAX_K = 15\n",
    "\n",
    "import pandas as pd\n",
    "\n",
    "data2_umur_berlangganan_k_run_history = {\n",
    "  \"data\" : \"2 Data Umur dan Lama Berlangganan\", \n",
    "  \"k_runs\" : {}\n",
    "}\n",
    "\n",
    "for i in range(1, MAX_K+1):\n",
    "  print(\"==== K:\", i, \"====\" )\n",
    "  run_data = {\n",
    "    \"points\" : None,\n",
    "    \"cluster\" : None,\n",
    "    \"inertia\" : None\n",
    "  }\n",
    "  \n",
    "  model = KMeans(df_training.drop(columns=\"Premi\", axis=1))\n",
    "  run_data[\"cluster\"] = model.fit_predict(k_num=i, conv_threshold=1e-15)\n",
    "  run_data[\"inertia\"] = model.inertia\n",
    "  run_data[\"points\"] = model.point\n",
    "  data2_umur_berlangganan_k_run_history[\"k_runs\"][i] = run_data"
   ]
  },
  {
   "cell_type": "code",
   "execution_count": null,
   "metadata": {},
   "outputs": [],
   "source": [
    "FILE_NAME = \"2data_umur_berlangganan_runs_15k.pckl\"\n",
    "f = open('./saved_vars/'+FILE_NAME, 'wb')\n",
    "pickle.dump(data2_umur_berlangganan_k_run_history, f)\n",
    "f.close()"
   ]
  },
  {
   "cell_type": "markdown",
   "metadata": {},
   "source": [
    "### Atribut Premi dan Lama Berlangganan"
   ]
  },
  {
   "cell_type": "code",
   "execution_count": 29,
   "metadata": {},
   "outputs": [
    {
     "name": "stdout",
     "output_type": "stream",
     "text": [
      "==== K: 1 ====\n",
      "K-Means akan ditentukan oleh atribut-atribut di bawah ini:\n",
      "[Premi Lama_Berlangganan ]\n"
     ]
    },
    {
     "ename": "KeyboardInterrupt",
     "evalue": "",
     "output_type": "error",
     "traceback": [
      "\u001b[1;31m---------------------------------------------------------------------------\u001b[0m",
      "\u001b[1;31mKeyboardInterrupt\u001b[0m                         Traceback (most recent call last)",
      "\u001b[1;32m<ipython-input-29-802364c18e7c>\u001b[0m in \u001b[0;36m<module>\u001b[1;34m\u001b[0m\n\u001b[0;32m     17\u001b[0m \u001b[1;33m\u001b[0m\u001b[0m\n\u001b[0;32m     18\u001b[0m   \u001b[0mmodel\u001b[0m \u001b[1;33m=\u001b[0m \u001b[0mKMeans\u001b[0m\u001b[1;33m(\u001b[0m\u001b[0mdf_training\u001b[0m\u001b[1;33m.\u001b[0m\u001b[0mdrop\u001b[0m\u001b[1;33m(\u001b[0m\u001b[0mcolumns\u001b[0m\u001b[1;33m=\u001b[0m\u001b[1;34m\"Umur\"\u001b[0m\u001b[1;33m,\u001b[0m \u001b[0maxis\u001b[0m\u001b[1;33m=\u001b[0m\u001b[1;36m1\u001b[0m\u001b[1;33m)\u001b[0m\u001b[1;33m)\u001b[0m\u001b[1;33m\u001b[0m\u001b[1;33m\u001b[0m\u001b[0m\n\u001b[1;32m---> 19\u001b[1;33m   \u001b[0mrun_data\u001b[0m\u001b[1;33m[\u001b[0m\u001b[1;34m\"cluster\"\u001b[0m\u001b[1;33m]\u001b[0m \u001b[1;33m=\u001b[0m \u001b[0mmodel\u001b[0m\u001b[1;33m.\u001b[0m\u001b[0mfit_predict\u001b[0m\u001b[1;33m(\u001b[0m\u001b[0mk_num\u001b[0m\u001b[1;33m=\u001b[0m\u001b[0mi\u001b[0m\u001b[1;33m,\u001b[0m \u001b[0mconv_threshold\u001b[0m\u001b[1;33m=\u001b[0m\u001b[1;36m1e-15\u001b[0m\u001b[1;33m)\u001b[0m\u001b[1;33m\u001b[0m\u001b[1;33m\u001b[0m\u001b[0m\n\u001b[0m\u001b[0;32m     20\u001b[0m   \u001b[0mrun_data\u001b[0m\u001b[1;33m[\u001b[0m\u001b[1;34m\"inertia\"\u001b[0m\u001b[1;33m]\u001b[0m \u001b[1;33m=\u001b[0m \u001b[0mmodel\u001b[0m\u001b[1;33m.\u001b[0m\u001b[0minertia\u001b[0m\u001b[1;33m\u001b[0m\u001b[1;33m\u001b[0m\u001b[0m\n\u001b[0;32m     21\u001b[0m   \u001b[0mrun_data\u001b[0m\u001b[1;33m[\u001b[0m\u001b[1;34m\"points\"\u001b[0m\u001b[1;33m]\u001b[0m \u001b[1;33m=\u001b[0m \u001b[0mmodel\u001b[0m\u001b[1;33m.\u001b[0m\u001b[0mpoint\u001b[0m\u001b[1;33m\u001b[0m\u001b[1;33m\u001b[0m\u001b[0m\n",
      "\u001b[1;32m<ipython-input-14-e4953d6ea377>\u001b[0m in \u001b[0;36mfit_predict\u001b[1;34m(self, k_num, max_step, conv_threshold)\u001b[0m\n\u001b[0;32m     40\u001b[0m       \u001b[0minitial_point\u001b[0m \u001b[1;33m=\u001b[0m \u001b[0mpoint\u001b[0m\u001b[1;33m\u001b[0m\u001b[1;33m\u001b[0m\u001b[0m\n\u001b[0;32m     41\u001b[0m       \u001b[0mdistance\u001b[0m \u001b[1;33m=\u001b[0m \u001b[0mself\u001b[0m\u001b[1;33m.\u001b[0m\u001b[0m__calculate_distance__\u001b[0m\u001b[1;33m(\u001b[0m\u001b[0mdata\u001b[0m\u001b[1;33m,\u001b[0m \u001b[0mpoint\u001b[0m\u001b[1;33m)\u001b[0m\u001b[1;33m\u001b[0m\u001b[1;33m\u001b[0m\u001b[0m\n\u001b[1;32m---> 42\u001b[1;33m       \u001b[0mcluster\u001b[0m \u001b[1;33m=\u001b[0m \u001b[0mself\u001b[0m\u001b[1;33m.\u001b[0m\u001b[0m__clustering__\u001b[0m\u001b[1;33m(\u001b[0m\u001b[0mdistance\u001b[0m\u001b[1;33m)\u001b[0m\u001b[1;33m\u001b[0m\u001b[1;33m\u001b[0m\u001b[0m\n\u001b[0m\u001b[0;32m     43\u001b[0m       \u001b[0mnew_point\u001b[0m \u001b[1;33m=\u001b[0m \u001b[0mself\u001b[0m\u001b[1;33m.\u001b[0m\u001b[0m__point_nomralization__\u001b[0m\u001b[1;33m(\u001b[0m\u001b[0mdata\u001b[0m\u001b[1;33m,\u001b[0m \u001b[0mpoint\u001b[0m\u001b[1;33m,\u001b[0m \u001b[0mcluster\u001b[0m\u001b[1;33m)\u001b[0m\u001b[1;33m\u001b[0m\u001b[1;33m\u001b[0m\u001b[0m\n\u001b[0;32m     44\u001b[0m       \u001b[0mconvergence\u001b[0m \u001b[1;33m=\u001b[0m \u001b[0mself\u001b[0m\u001b[1;33m.\u001b[0m\u001b[0m__convergence_check__\u001b[0m\u001b[1;33m(\u001b[0m\u001b[0minitial_point\u001b[0m\u001b[1;33m,\u001b[0m \u001b[0mnew_point\u001b[0m\u001b[1;33m,\u001b[0m \u001b[0mconv_threshold\u001b[0m\u001b[1;33m)\u001b[0m\u001b[1;33m\u001b[0m\u001b[1;33m\u001b[0m\u001b[0m\n",
      "\u001b[1;32m<ipython-input-14-e4953d6ea377>\u001b[0m in \u001b[0;36m__clustering__\u001b[1;34m(self, distance)\u001b[0m\n\u001b[0;32m     72\u001b[0m     \u001b[0mcluster\u001b[0m \u001b[1;33m=\u001b[0m \u001b[0mnp\u001b[0m\u001b[1;33m.\u001b[0m\u001b[0mzeros\u001b[0m\u001b[1;33m(\u001b[0m\u001b[0mlen\u001b[0m\u001b[1;33m(\u001b[0m\u001b[0mdistance\u001b[0m\u001b[1;33m)\u001b[0m\u001b[1;33m)\u001b[0m\u001b[1;33m\u001b[0m\u001b[1;33m\u001b[0m\u001b[0m\n\u001b[0;32m     73\u001b[0m     \u001b[1;32mfor\u001b[0m \u001b[0mi\u001b[0m \u001b[1;32min\u001b[0m \u001b[0mrange\u001b[0m\u001b[1;33m(\u001b[0m\u001b[0mlen\u001b[0m\u001b[1;33m(\u001b[0m\u001b[0mcluster\u001b[0m\u001b[1;33m)\u001b[0m\u001b[1;33m)\u001b[0m\u001b[1;33m:\u001b[0m\u001b[1;33m\u001b[0m\u001b[1;33m\u001b[0m\u001b[0m\n\u001b[1;32m---> 74\u001b[1;33m       \u001b[0mcluster\u001b[0m\u001b[1;33m[\u001b[0m\u001b[0mi\u001b[0m\u001b[1;33m]\u001b[0m \u001b[1;33m=\u001b[0m \u001b[0mnp\u001b[0m\u001b[1;33m.\u001b[0m\u001b[0margmin\u001b[0m\u001b[1;33m(\u001b[0m\u001b[0mdistance\u001b[0m\u001b[1;33m[\u001b[0m\u001b[0mi\u001b[0m\u001b[1;33m]\u001b[0m\u001b[1;33m)\u001b[0m\u001b[1;33m\u001b[0m\u001b[1;33m\u001b[0m\u001b[0m\n\u001b[0m\u001b[0;32m     75\u001b[0m     \u001b[1;32mreturn\u001b[0m \u001b[0mcluster\u001b[0m\u001b[1;33m\u001b[0m\u001b[1;33m\u001b[0m\u001b[0m\n\u001b[0;32m     76\u001b[0m   \u001b[1;31m# Made by Kaenova Mahendra Auditama | 1301190324 | IF-43-02\u001b[0m\u001b[1;33m\u001b[0m\u001b[1;33m\u001b[0m\u001b[1;33m\u001b[0m\u001b[0m\n",
      "\u001b[1;32m<__array_function__ internals>\u001b[0m in \u001b[0;36margmin\u001b[1;34m(*args, **kwargs)\u001b[0m\n",
      "\u001b[1;32m~\\AppData\\Roaming\\Python\\Python39\\site-packages\\numpy\\core\\fromnumeric.py\u001b[0m in \u001b[0;36margmin\u001b[1;34m(a, axis, out)\u001b[0m\n\u001b[0;32m   1267\u001b[0m \u001b[1;33m\u001b[0m\u001b[0m\n\u001b[0;32m   1268\u001b[0m     \"\"\"\n\u001b[1;32m-> 1269\u001b[1;33m     \u001b[1;32mreturn\u001b[0m \u001b[0m_wrapfunc\u001b[0m\u001b[1;33m(\u001b[0m\u001b[0ma\u001b[0m\u001b[1;33m,\u001b[0m \u001b[1;34m'argmin'\u001b[0m\u001b[1;33m,\u001b[0m \u001b[0maxis\u001b[0m\u001b[1;33m=\u001b[0m\u001b[0maxis\u001b[0m\u001b[1;33m,\u001b[0m \u001b[0mout\u001b[0m\u001b[1;33m=\u001b[0m\u001b[0mout\u001b[0m\u001b[1;33m)\u001b[0m\u001b[1;33m\u001b[0m\u001b[1;33m\u001b[0m\u001b[0m\n\u001b[0m\u001b[0;32m   1270\u001b[0m \u001b[1;33m\u001b[0m\u001b[0m\n\u001b[0;32m   1271\u001b[0m \u001b[1;33m\u001b[0m\u001b[0m\n",
      "\u001b[1;32m~\\AppData\\Roaming\\Python\\Python39\\site-packages\\numpy\\core\\fromnumeric.py\u001b[0m in \u001b[0;36m_wrapfunc\u001b[1;34m(obj, method, *args, **kwds)\u001b[0m\n\u001b[0;32m     56\u001b[0m \u001b[1;33m\u001b[0m\u001b[0m\n\u001b[0;32m     57\u001b[0m     \u001b[1;32mtry\u001b[0m\u001b[1;33m:\u001b[0m\u001b[1;33m\u001b[0m\u001b[1;33m\u001b[0m\u001b[0m\n\u001b[1;32m---> 58\u001b[1;33m         \u001b[1;32mreturn\u001b[0m \u001b[0mbound\u001b[0m\u001b[1;33m(\u001b[0m\u001b[1;33m*\u001b[0m\u001b[0margs\u001b[0m\u001b[1;33m,\u001b[0m \u001b[1;33m**\u001b[0m\u001b[0mkwds\u001b[0m\u001b[1;33m)\u001b[0m\u001b[1;33m\u001b[0m\u001b[1;33m\u001b[0m\u001b[0m\n\u001b[0m\u001b[0;32m     59\u001b[0m     \u001b[1;32mexcept\u001b[0m \u001b[0mTypeError\u001b[0m\u001b[1;33m:\u001b[0m\u001b[1;33m\u001b[0m\u001b[1;33m\u001b[0m\u001b[0m\n\u001b[0;32m     60\u001b[0m         \u001b[1;31m# A TypeError occurs if the object does have such a method in its\u001b[0m\u001b[1;33m\u001b[0m\u001b[1;33m\u001b[0m\u001b[1;33m\u001b[0m\u001b[0m\n",
      "\u001b[1;31mKeyboardInterrupt\u001b[0m: "
     ]
    }
   ],
   "source": [
    "MAX_K = 15\n",
    "\n",
    "import pandas as pd\n",
    "\n",
    "data2_premi_berlangganan_k_run_history = {\n",
    "  \"data\" : \"2 Data Premi dan Lama Berlangganan\", \n",
    "  \"k_runs\" : {}\n",
    "}\n",
    "\n",
    "for i in range(1, MAX_K+1):\n",
    "  print(\"==== K:\", i, \"====\" )\n",
    "  run_data = {\n",
    "    \"points\" : None,\n",
    "    \"cluster\" : None,\n",
    "    \"inertia\" : None\n",
    "  }\n",
    "  \n",
    "  model = KMeans(df_training.drop(columns=\"Umur\", axis=1))\n",
    "  run_data[\"cluster\"] = model.fit_predict(k_num=i, conv_threshold=1e-15)\n",
    "  run_data[\"inertia\"] = model.inertia\n",
    "  run_data[\"points\"] = model.point\n",
    "  data2_premi_berlangganan_k_run_history[\"k_runs\"][i] = run_data"
   ]
  }
 ],
 "metadata": {
  "interpreter": {
   "hash": "ac59ebe37160ed0dfa835113d9b8498d9f09ceb179beaac4002f036b9467c963"
  },
  "kernelspec": {
   "display_name": "Python 3.9.2 64-bit",
   "name": "python3"
  },
  "language_info": {
   "codemirror_mode": {
    "name": "ipython",
    "version": 3
   },
   "file_extension": ".py",
   "mimetype": "text/x-python",
   "name": "python",
   "nbconvert_exporter": "python",
   "pygments_lexer": "ipython3",
   "version": "3.9.2"
  },
  "orig_nbformat": 4
 },
 "nbformat": 4,
 "nbformat_minor": 2
}
